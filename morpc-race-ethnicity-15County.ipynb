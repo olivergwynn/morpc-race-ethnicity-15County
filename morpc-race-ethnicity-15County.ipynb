{
 "cells": [
  {
   "cell_type": "markdown",
   "id": "3fc55a6b-74ce-458c-8ff6-7ce7e7222f96",
   "metadata": {},
   "source": [
    "# Race/ethnicity by year"
   ]
  },
  {
   "cell_type": "markdown",
   "id": "9816eab0-3638-4731-be1f-9eda88611f9d",
   "metadata": {},
   "source": [
    "## Setup"
   ]
  },
  {
   "cell_type": "markdown",
   "id": "6c7c0c7e-4db2-422b-8e4f-df148956410c",
   "metadata": {},
   "source": [
    "### Packages"
   ]
  },
  {
   "cell_type": "code",
   "execution_count": 2,
   "id": "c261336c-de57-4840-80a6-b2997221ffb8",
   "metadata": {},
   "outputs": [
    {
     "name": "stderr",
     "output_type": "stream",
     "text": [
      "C:\\Users\\ogwynn\\AppData\\Local\\Packages\\PythonSoftwareFoundation.Python.3.12_qbz5n2kfra8p0\\LocalCache\\local-packages\\Python312\\site-packages\\dask\\dataframe\\__init__.py:49: FutureWarning: \n",
      "Dask dataframe query planning is disabled because dask-expr is not installed.\n",
      "\n",
      "You can install it with `pip install dask[dataframe]` or `conda install dask`.\n",
      "This will raise in a future version.\n",
      "\n",
      "  warnings.warn(msg, FutureWarning)\n"
     ]
    }
   ],
   "source": [
    "import pandas as pd\n",
    "import os\n",
    "import matplotlib.pyplot as plt\n",
    "import sys\n",
    "sys.path.append(os.path.normpath(\"../morpc-common\"))\n",
    "import morpc\n",
    "import matplotlib.pyplot as plt\n",
    "import time\n",
    "from arcgis.features import FeatureLayerCollection\n",
    "from arcgis.gis import GIS\n",
    "from pathlib import Path\n",
    "from zipfile import ZipFile\n",
    "\n",
    "# Connect to ArcGIS Online\n",
    "gis = GIS(\"https://www.arcgis.com\", \"ogwynn_morpc\", \"Cr33p3r11!!\")"
   ]
  },
  {
   "cell_type": "markdown",
   "id": "0fb6eb5c-dbf6-4306-bcf5-81b2391b73c9",
   "metadata": {},
   "source": [
    "## Pulling Existing Catalog from AGO"
   ]
  },
  {
   "cell_type": "code",
   "execution_count": 4,
   "id": "70e3eb98-1950-4bf5-b275-b15916973de6",
   "metadata": {},
   "outputs": [
    {
     "name": "stdout",
     "output_type": "stream",
     "text": [
      "CSV file downloaded successfully: inputData\\insightsCatalog\\morpc_insights_catalog.xlsx\n"
     ]
    }
   ],
   "source": [
    "# Define the directory to save the data\n",
    "data_path = Path('inputData/insightsCatalog')\n",
    "data_path.mkdir(parents=True, exist_ok=True)\n",
    "\n",
    "# Access the CSV item by ID\n",
    "catalog_item_id = \"c396b9d0db724d1f870fa47f1d1dc1ce\"\n",
    "csv_item = gis.content.get(catalog_item_id)\n",
    "\n",
    "# Download the CSV file\n",
    "catalog_path = csv_item.download(save_path=data_path)\n",
    "\n",
    "print(f\"CSV file downloaded successfully: {catalog_path}\")"
   ]
  },
  {
   "cell_type": "markdown",
   "id": "9113e01d-5c47-4dd1-a9a3-70b058c31d08",
   "metadata": {},
   "source": [
    "### Paths"
   ]
  },
  {
   "cell_type": "code",
   "execution_count": 6,
   "id": "caa744cb-59c4-48a0-9e31-41a9cfb269f8",
   "metadata": {},
   "outputs": [
    {
     "data": {
      "text/html": [
       "<div>\n",
       "<style scoped>\n",
       "    .dataframe tbody tr th:only-of-type {\n",
       "        vertical-align: middle;\n",
       "    }\n",
       "\n",
       "    .dataframe tbody tr th {\n",
       "        vertical-align: top;\n",
       "    }\n",
       "\n",
       "    .dataframe thead th {\n",
       "        text-align: right;\n",
       "    }\n",
       "</style>\n",
       "<table border=\"1\" class=\"dataframe\">\n",
       "  <thead>\n",
       "    <tr style=\"text-align: right;\">\n",
       "      <th></th>\n",
       "      <th>GEOID</th>\n",
       "      <th>STATE</th>\n",
       "      <th>COUNTY</th>\n",
       "      <th>SEX</th>\n",
       "      <th>RACE</th>\n",
       "      <th>AGEGROUP</th>\n",
       "      <th>SOURCE</th>\n",
       "      <th>VINTAGE</th>\n",
       "      <th>YEAR</th>\n",
       "      <th>POP</th>\n",
       "    </tr>\n",
       "  </thead>\n",
       "  <tbody>\n",
       "    <tr>\n",
       "      <th>0</th>\n",
       "      <td>39001</td>\n",
       "      <td>Ohio</td>\n",
       "      <td>Adams</td>\n",
       "      <td>F</td>\n",
       "      <td>AA</td>\n",
       "      <td>0 to 4</td>\n",
       "      <td>INT</td>\n",
       "      <td>2012</td>\n",
       "      <td>2000</td>\n",
       "      <td>1</td>\n",
       "    </tr>\n",
       "    <tr>\n",
       "      <th>1</th>\n",
       "      <td>39001</td>\n",
       "      <td>Ohio</td>\n",
       "      <td>Adams</td>\n",
       "      <td>F</td>\n",
       "      <td>AA</td>\n",
       "      <td>0 to 4</td>\n",
       "      <td>INT</td>\n",
       "      <td>2012</td>\n",
       "      <td>2001</td>\n",
       "      <td>1</td>\n",
       "    </tr>\n",
       "    <tr>\n",
       "      <th>2</th>\n",
       "      <td>39001</td>\n",
       "      <td>Ohio</td>\n",
       "      <td>Adams</td>\n",
       "      <td>F</td>\n",
       "      <td>AA</td>\n",
       "      <td>0 to 4</td>\n",
       "      <td>INT</td>\n",
       "      <td>2012</td>\n",
       "      <td>2002</td>\n",
       "      <td>1</td>\n",
       "    </tr>\n",
       "    <tr>\n",
       "      <th>3</th>\n",
       "      <td>39001</td>\n",
       "      <td>Ohio</td>\n",
       "      <td>Adams</td>\n",
       "      <td>F</td>\n",
       "      <td>AA</td>\n",
       "      <td>0 to 4</td>\n",
       "      <td>INT</td>\n",
       "      <td>2012</td>\n",
       "      <td>2003</td>\n",
       "      <td>1</td>\n",
       "    </tr>\n",
       "    <tr>\n",
       "      <th>4</th>\n",
       "      <td>39001</td>\n",
       "      <td>Ohio</td>\n",
       "      <td>Adams</td>\n",
       "      <td>F</td>\n",
       "      <td>AA</td>\n",
       "      <td>0 to 4</td>\n",
       "      <td>INT</td>\n",
       "      <td>2012</td>\n",
       "      <td>2004</td>\n",
       "      <td>1</td>\n",
       "    </tr>\n",
       "  </tbody>\n",
       "</table>\n",
       "</div>"
      ],
      "text/plain": [
       "   GEOID STATE COUNTY SEX RACE AGEGROUP SOURCE  VINTAGE  YEAR  POP\n",
       "0  39001  Ohio  Adams   F   AA   0 to 4    INT     2012  2000    1\n",
       "1  39001  Ohio  Adams   F   AA   0 to 4    INT     2012  2001    1\n",
       "2  39001  Ohio  Adams   F   AA   0 to 4    INT     2012  2002    1\n",
       "3  39001  Ohio  Adams   F   AA   0 to 4    INT     2012  2003    1\n",
       "4  39001  Ohio  Adams   F   AA   0 to 4    INT     2012  2004    1"
      ]
     },
     "execution_count": 6,
     "metadata": {},
     "output_type": "execute_result"
    }
   ],
   "source": [
    "INPUT_DATA_PATH = \"inputData/censusPep_county_char.csv\"\n",
    "\n",
    "TEMP_OUTPUT_CSV_PATH =\"outputData/TEMP.csv\"\n",
    "\n",
    "REGIONAL_SUMMARY_DATA_PATH = \"outputData/censusPep_county_char_15Region.csv\"\n",
    "\n",
    "REGIONAL_SUMMARY_DATA_LABELED_PATH = \"outputData/censusPep_county_char_labeled_15Region.csv\"\n",
    "\n",
    "data1 = pd.read_csv(INPUT_DATA_PATH)\n",
    "\n",
    "data1.to_csv(TEMP_OUTPUT_CSV_PATH, index=False)\n",
    "\n",
    "data1.head()"
   ]
  },
  {
   "cell_type": "markdown",
   "id": "0005df01-0819-45cb-8ec3-a09cd2b664f5",
   "metadata": {},
   "source": [
    "## Filtering"
   ]
  },
  {
   "cell_type": "markdown",
   "id": "0c82f904-d662-460c-9bcb-493161da030e",
   "metadata": {},
   "source": [
    "### Filtering for 15 county"
   ]
  },
  {
   "cell_type": "code",
   "execution_count": 7,
   "id": "6ade5487-5b37-4a37-85f8-d1b3f026a575",
   "metadata": {},
   "outputs": [
    {
     "data": {
      "text/html": [
       "<div>\n",
       "<style scoped>\n",
       "    .dataframe tbody tr th:only-of-type {\n",
       "        vertical-align: middle;\n",
       "    }\n",
       "\n",
       "    .dataframe tbody tr th {\n",
       "        vertical-align: top;\n",
       "    }\n",
       "\n",
       "    .dataframe thead th {\n",
       "        text-align: right;\n",
       "    }\n",
       "</style>\n",
       "<table border=\"1\" class=\"dataframe\">\n",
       "  <thead>\n",
       "    <tr style=\"text-align: right;\">\n",
       "      <th></th>\n",
       "      <th>GEOID</th>\n",
       "      <th>STATE</th>\n",
       "      <th>COUNTY</th>\n",
       "      <th>SEX</th>\n",
       "      <th>RACE</th>\n",
       "      <th>AGEGROUP</th>\n",
       "      <th>SOURCE</th>\n",
       "      <th>VINTAGE</th>\n",
       "      <th>YEAR</th>\n",
       "      <th>POP</th>\n",
       "    </tr>\n",
       "  </thead>\n",
       "  <tbody>\n",
       "    <tr>\n",
       "      <th>178210</th>\n",
       "      <td>39041</td>\n",
       "      <td>Ohio</td>\n",
       "      <td>Delaware</td>\n",
       "      <td>F</td>\n",
       "      <td>AA</td>\n",
       "      <td>0 to 4</td>\n",
       "      <td>INT</td>\n",
       "      <td>2012</td>\n",
       "      <td>2010</td>\n",
       "      <td>389</td>\n",
       "    </tr>\n",
       "    <tr>\n",
       "      <th>178221</th>\n",
       "      <td>39041</td>\n",
       "      <td>Ohio</td>\n",
       "      <td>Delaware</td>\n",
       "      <td>F</td>\n",
       "      <td>AA</td>\n",
       "      <td>10 to 14</td>\n",
       "      <td>INT</td>\n",
       "      <td>2012</td>\n",
       "      <td>2010</td>\n",
       "      <td>274</td>\n",
       "    </tr>\n",
       "    <tr>\n",
       "      <th>178232</th>\n",
       "      <td>39041</td>\n",
       "      <td>Ohio</td>\n",
       "      <td>Delaware</td>\n",
       "      <td>F</td>\n",
       "      <td>AA</td>\n",
       "      <td>15 to 19</td>\n",
       "      <td>INT</td>\n",
       "      <td>2012</td>\n",
       "      <td>2010</td>\n",
       "      <td>187</td>\n",
       "    </tr>\n",
       "    <tr>\n",
       "      <th>178243</th>\n",
       "      <td>39041</td>\n",
       "      <td>Ohio</td>\n",
       "      <td>Delaware</td>\n",
       "      <td>F</td>\n",
       "      <td>AA</td>\n",
       "      <td>20 to 24</td>\n",
       "      <td>INT</td>\n",
       "      <td>2012</td>\n",
       "      <td>2010</td>\n",
       "      <td>139</td>\n",
       "    </tr>\n",
       "    <tr>\n",
       "      <th>178254</th>\n",
       "      <td>39041</td>\n",
       "      <td>Ohio</td>\n",
       "      <td>Delaware</td>\n",
       "      <td>F</td>\n",
       "      <td>AA</td>\n",
       "      <td>25 to 29</td>\n",
       "      <td>INT</td>\n",
       "      <td>2012</td>\n",
       "      <td>2010</td>\n",
       "      <td>278</td>\n",
       "    </tr>\n",
       "  </tbody>\n",
       "</table>\n",
       "</div>"
      ],
      "text/plain": [
       "        GEOID STATE    COUNTY SEX RACE  AGEGROUP SOURCE  VINTAGE  YEAR  POP\n",
       "178210  39041  Ohio  Delaware   F   AA    0 to 4    INT     2012  2010  389\n",
       "178221  39041  Ohio  Delaware   F   AA  10 to 14    INT     2012  2010  274\n",
       "178232  39041  Ohio  Delaware   F   AA  15 to 19    INT     2012  2010  187\n",
       "178243  39041  Ohio  Delaware   F   AA  20 to 24    INT     2012  2010  139\n",
       "178254  39041  Ohio  Delaware   F   AA  25 to 29    INT     2012  2010  278"
      ]
     },
     "execution_count": 7,
     "metadata": {},
     "output_type": "execute_result"
    }
   ],
   "source": [
    "# List of counties to filter by\n",
    "selected_counties = [\n",
    "    \"Delaware\", \"Fairfield\", \"Fayette\", \"Franklin\", \"Hocking\", \"Knox\", \"Licking\", \n",
    "    \"Logan\", \"Madison\", \"Marion\", \"Morrow\", \"Perry\", \"Pickaway\", \"Ross\", \"Union\"\n",
    "]\n",
    "\n",
    "selected_years = [\n",
    "    2010, 2011, 2012, 2013, 2014, 2015, 2016, 2017, 2018, 2019, 2020, 2021, 2022, 2023\n",
    "]\n",
    "\n",
    "# Filter the dataset for the selected counties\n",
    "data2 = data1[data1['COUNTY'].isin(selected_counties)]\n",
    "\n",
    "# Filter the dataset for the selected counties\n",
    "data2 = data2[data2['YEAR'].isin(selected_years)]\n",
    "\n",
    "# Filter out rows where 'SOURCE' is 'INT' and 'YEAR' is '2010'\n",
    "data2 = data2[~((data2['SOURCE'] == 'INT') & (data2['YEAR'] == '2010'))]\n",
    "\n",
    "data2.to_csv(TEMP_OUTPUT_CSV_PATH, index=False)\n",
    "\n",
    "# Display the first few rows of the filtered data\n",
    "data2.head()"
   ]
  },
  {
   "cell_type": "markdown",
   "id": "49eb6f87-f7ef-462c-9dc3-03e48e1f67e9",
   "metadata": {},
   "source": [
    "### Summing by 15 County"
   ]
  },
  {
   "cell_type": "code",
   "execution_count": 8,
   "id": "cfa8bb11-dfa5-4ff9-81f7-c94b47176fba",
   "metadata": {},
   "outputs": [
    {
     "data": {
      "text/html": [
       "<div>\n",
       "<style scoped>\n",
       "    .dataframe tbody tr th:only-of-type {\n",
       "        vertical-align: middle;\n",
       "    }\n",
       "\n",
       "    .dataframe tbody tr th {\n",
       "        vertical-align: top;\n",
       "    }\n",
       "\n",
       "    .dataframe thead th {\n",
       "        text-align: right;\n",
       "    }\n",
       "</style>\n",
       "<table border=\"1\" class=\"dataframe\">\n",
       "  <thead>\n",
       "    <tr style=\"text-align: right;\">\n",
       "      <th></th>\n",
       "      <th>GEOID</th>\n",
       "      <th>STATE</th>\n",
       "      <th>COUNTY</th>\n",
       "      <th>SEX</th>\n",
       "      <th>RACE</th>\n",
       "      <th>AGEGROUP</th>\n",
       "      <th>SOURCE</th>\n",
       "      <th>VINTAGE</th>\n",
       "      <th>YEAR</th>\n",
       "      <th>POP</th>\n",
       "    </tr>\n",
       "  </thead>\n",
       "  <tbody>\n",
       "    <tr>\n",
       "      <th>0</th>\n",
       "      <td>39041.0</td>\n",
       "      <td>Ohio</td>\n",
       "      <td>Delaware</td>\n",
       "      <td>F</td>\n",
       "      <td>AA</td>\n",
       "      <td>0 to 4</td>\n",
       "      <td>INT</td>\n",
       "      <td>2012.0</td>\n",
       "      <td>2010</td>\n",
       "      <td>389</td>\n",
       "    </tr>\n",
       "    <tr>\n",
       "      <th>1</th>\n",
       "      <td>39041.0</td>\n",
       "      <td>Ohio</td>\n",
       "      <td>Delaware</td>\n",
       "      <td>F</td>\n",
       "      <td>AA</td>\n",
       "      <td>10 to 14</td>\n",
       "      <td>INT</td>\n",
       "      <td>2012.0</td>\n",
       "      <td>2010</td>\n",
       "      <td>274</td>\n",
       "    </tr>\n",
       "    <tr>\n",
       "      <th>2</th>\n",
       "      <td>39041.0</td>\n",
       "      <td>Ohio</td>\n",
       "      <td>Delaware</td>\n",
       "      <td>F</td>\n",
       "      <td>AA</td>\n",
       "      <td>15 to 19</td>\n",
       "      <td>INT</td>\n",
       "      <td>2012.0</td>\n",
       "      <td>2010</td>\n",
       "      <td>187</td>\n",
       "    </tr>\n",
       "    <tr>\n",
       "      <th>3</th>\n",
       "      <td>39041.0</td>\n",
       "      <td>Ohio</td>\n",
       "      <td>Delaware</td>\n",
       "      <td>F</td>\n",
       "      <td>AA</td>\n",
       "      <td>20 to 24</td>\n",
       "      <td>INT</td>\n",
       "      <td>2012.0</td>\n",
       "      <td>2010</td>\n",
       "      <td>139</td>\n",
       "    </tr>\n",
       "    <tr>\n",
       "      <th>4</th>\n",
       "      <td>39041.0</td>\n",
       "      <td>Ohio</td>\n",
       "      <td>Delaware</td>\n",
       "      <td>F</td>\n",
       "      <td>AA</td>\n",
       "      <td>25 to 29</td>\n",
       "      <td>INT</td>\n",
       "      <td>2012.0</td>\n",
       "      <td>2010</td>\n",
       "      <td>278</td>\n",
       "    </tr>\n",
       "  </tbody>\n",
       "</table>\n",
       "</div>"
      ],
      "text/plain": [
       "     GEOID STATE    COUNTY SEX RACE  AGEGROUP SOURCE  VINTAGE  YEAR  POP\n",
       "0  39041.0  Ohio  Delaware   F   AA    0 to 4    INT   2012.0  2010  389\n",
       "1  39041.0  Ohio  Delaware   F   AA  10 to 14    INT   2012.0  2010  274\n",
       "2  39041.0  Ohio  Delaware   F   AA  15 to 19    INT   2012.0  2010  187\n",
       "3  39041.0  Ohio  Delaware   F   AA  20 to 24    INT   2012.0  2010  139\n",
       "4  39041.0  Ohio  Delaware   F   AA  25 to 29    INT   2012.0  2010  278"
      ]
     },
     "execution_count": 8,
     "metadata": {},
     "output_type": "execute_result"
    }
   ],
   "source": [
    "# Group by the relevant columns and sum the 'POP' variable\n",
    "data2_1 = data2.groupby(\n",
    "    ['SEX', 'RACE', 'AGEGROUP', 'YEAR']\n",
    ")['POP'].sum().reset_index()\n",
    "\n",
    "# Add a new column for the COUNTY identifier\n",
    "data2_1['COUNTY'] = '15County'\n",
    "\n",
    "# Rearrange columns to match the original dataset order\n",
    "data2_1 = data2_1[['COUNTY', 'SEX', 'RACE', 'AGEGROUP','YEAR', 'POP']]\n",
    "\n",
    "# Append the new '15County' entries to the filtered dataset\n",
    "data3 = pd.concat([data2, data2_1], ignore_index=True)\n",
    "\n",
    "data3.to_csv(REGIONAL_SUMMARY_DATA_PATH, index=False)\n",
    "\n",
    "# Display the first few rows of the updated data\n",
    "data3.head()"
   ]
  },
  {
   "cell_type": "markdown",
   "id": "59195a42-8ea1-4810-9113-91119824aa38",
   "metadata": {},
   "source": [
    "### Filtering for sex totals and summing for different races"
   ]
  },
  {
   "cell_type": "code",
   "execution_count": 9,
   "id": "f1d4111d-56e1-4f15-b12b-d350fdcd9049",
   "metadata": {},
   "outputs": [
    {
     "data": {
      "text/html": [
       "<div>\n",
       "<style scoped>\n",
       "    .dataframe tbody tr th:only-of-type {\n",
       "        vertical-align: middle;\n",
       "    }\n",
       "\n",
       "    .dataframe tbody tr th {\n",
       "        vertical-align: top;\n",
       "    }\n",
       "\n",
       "    .dataframe thead th {\n",
       "        text-align: right;\n",
       "    }\n",
       "</style>\n",
       "<table border=\"1\" class=\"dataframe\">\n",
       "  <thead>\n",
       "    <tr style=\"text-align: right;\">\n",
       "      <th></th>\n",
       "      <th>COUNTY</th>\n",
       "      <th>RACE</th>\n",
       "      <th>YEAR</th>\n",
       "      <th>POP</th>\n",
       "    </tr>\n",
       "  </thead>\n",
       "  <tbody>\n",
       "    <tr>\n",
       "      <th>0</th>\n",
       "      <td>15County</td>\n",
       "      <td>AA</td>\n",
       "      <td>2010</td>\n",
       "      <td>121054</td>\n",
       "    </tr>\n",
       "    <tr>\n",
       "      <th>1</th>\n",
       "      <td>15County</td>\n",
       "      <td>AA</td>\n",
       "      <td>2011</td>\n",
       "      <td>63769</td>\n",
       "    </tr>\n",
       "    <tr>\n",
       "      <th>2</th>\n",
       "      <td>15County</td>\n",
       "      <td>AA</td>\n",
       "      <td>2012</td>\n",
       "      <td>66927</td>\n",
       "    </tr>\n",
       "    <tr>\n",
       "      <th>3</th>\n",
       "      <td>15County</td>\n",
       "      <td>AA</td>\n",
       "      <td>2013</td>\n",
       "      <td>71774</td>\n",
       "    </tr>\n",
       "    <tr>\n",
       "      <th>4</th>\n",
       "      <td>15County</td>\n",
       "      <td>AA</td>\n",
       "      <td>2014</td>\n",
       "      <td>77219</td>\n",
       "    </tr>\n",
       "  </tbody>\n",
       "</table>\n",
       "</div>"
      ],
      "text/plain": [
       "     COUNTY RACE  YEAR     POP\n",
       "0  15County   AA  2010  121054\n",
       "1  15County   AA  2011   63769\n",
       "2  15County   AA  2012   66927\n",
       "3  15County   AA  2013   71774\n",
       "4  15County   AA  2014   77219"
      ]
     },
     "execution_count": 9,
     "metadata": {},
     "output_type": "execute_result"
    }
   ],
   "source": [
    "# Filter the dataset where SEX == 'TOT'\n",
    "data3_1 = data3[data3['SEX'] != 'TOT']\n",
    "\n",
    "# Group by the relevant columns and sum the 'POP' variable\n",
    "data4 = data3_1.groupby(\n",
    "    ['COUNTY', 'RACE', 'YEAR']\n",
    ")['POP'].sum().reset_index()\n",
    "\n",
    "data4.to_csv(REGIONAL_SUMMARY_DATA_PATH, index=False)\n",
    "\n",
    "# Display the first few rows of the updated data\n",
    "data4.head()"
   ]
  },
  {
   "cell_type": "markdown",
   "id": "08c83fd5-df8b-4815-9f7c-95594e2c1e6e",
   "metadata": {},
   "source": [
    "### Combining RACE NA"
   ]
  },
  {
   "cell_type": "code",
   "execution_count": 10,
   "id": "525d94a7-0988-4a28-b71c-f3d7a2736bd1",
   "metadata": {},
   "outputs": [],
   "source": [
    "# Step 1: Filter data for RACE == 'HNA' and RACE == 'NHNA'\n",
    "hna_nhna_data = data4[data4['RACE'].isin(['HNA', 'NHNA'])]\n",
    "\n",
    "# Step 2: Group by COUNTY, SOURCE, VINTAGE, and YEAR, and sum the POP\n",
    "combined_pop = hna_nhna_data.groupby(['COUNTY', 'YEAR'], as_index=False)['POP'].sum()\n",
    "\n",
    "# Step 3: Add a new column for RACE with value 'NA'\n",
    "combined_pop['RACE'] = 'NA'\n",
    "\n",
    "\n",
    "# Step 4: Append the new rows to the original data\n",
    "data5 = pd.concat([data4, combined_pop], ignore_index=True)\n",
    "\n",
    "data5.to_csv(REGIONAL_SUMMARY_DATA_LABELED_PATH, index=False)"
   ]
  },
  {
   "cell_type": "markdown",
   "id": "3e7460c1-8c34-4d43-b510-be999c8062ad",
   "metadata": {},
   "source": [
    "### Combining hispanic "
   ]
  },
  {
   "cell_type": "code",
   "execution_count": 11,
   "id": "08c6867a-51cb-4828-9604-d4a0573f244e",
   "metadata": {},
   "outputs": [],
   "source": [
    "# Step 1: Filter data for RACE == 'HNA' and RACE == 'NHNA'\n",
    "h_data = data5[data5['RACE'].isin(['HNA', 'HBA', 'HAA', 'HIA', 'HWA', 'HTOM'])]\n",
    "\n",
    "# Step 2: Group by COUNTY, SOURCE, VINTAGE, and YEAR, and sum the POP\n",
    "combined_pop = h_data.groupby(['COUNTY', 'YEAR'], as_index=False)['POP'].sum()\n",
    "\n",
    "# Step 3: Add a new column for RACE with value 'NA'\n",
    "combined_pop['RACE'] = 'HH'\n",
    "\n",
    "# Step 4: Append the new rows to the original data\n",
    "data6 = pd.concat([data5, combined_pop], ignore_index=True)\n",
    "\n",
    "data6.to_csv(REGIONAL_SUMMARY_DATA_LABELED_PATH, index=False)"
   ]
  },
  {
   "cell_type": "markdown",
   "id": "cabdca37-5b00-4971-bd1e-07f6d7480d69",
   "metadata": {},
   "source": [
    "### Combining other races (NHIA + NHNA)"
   ]
  },
  {
   "cell_type": "code",
   "execution_count": 12,
   "id": "1f124648-8e03-4800-92c6-935ff0dd01f7",
   "metadata": {},
   "outputs": [
    {
     "data": {
      "text/html": [
       "<div>\n",
       "<style scoped>\n",
       "    .dataframe tbody tr th:only-of-type {\n",
       "        vertical-align: middle;\n",
       "    }\n",
       "\n",
       "    .dataframe tbody tr th {\n",
       "        vertical-align: top;\n",
       "    }\n",
       "\n",
       "    .dataframe thead th {\n",
       "        text-align: right;\n",
       "    }\n",
       "</style>\n",
       "<table border=\"1\" class=\"dataframe\">\n",
       "  <thead>\n",
       "    <tr style=\"text-align: right;\">\n",
       "      <th></th>\n",
       "      <th>COUNTY</th>\n",
       "      <th>RACE</th>\n",
       "      <th>YEAR</th>\n",
       "      <th>POP</th>\n",
       "    </tr>\n",
       "  </thead>\n",
       "  <tbody>\n",
       "    <tr>\n",
       "      <th>0</th>\n",
       "      <td>15County</td>\n",
       "      <td>AA</td>\n",
       "      <td>2010</td>\n",
       "      <td>121054</td>\n",
       "    </tr>\n",
       "    <tr>\n",
       "      <th>1</th>\n",
       "      <td>15County</td>\n",
       "      <td>AA</td>\n",
       "      <td>2011</td>\n",
       "      <td>63769</td>\n",
       "    </tr>\n",
       "    <tr>\n",
       "      <th>2</th>\n",
       "      <td>15County</td>\n",
       "      <td>AA</td>\n",
       "      <td>2012</td>\n",
       "      <td>66927</td>\n",
       "    </tr>\n",
       "    <tr>\n",
       "      <th>3</th>\n",
       "      <td>15County</td>\n",
       "      <td>AA</td>\n",
       "      <td>2013</td>\n",
       "      <td>71774</td>\n",
       "    </tr>\n",
       "    <tr>\n",
       "      <th>4</th>\n",
       "      <td>15County</td>\n",
       "      <td>AA</td>\n",
       "      <td>2014</td>\n",
       "      <td>77219</td>\n",
       "    </tr>\n",
       "  </tbody>\n",
       "</table>\n",
       "</div>"
      ],
      "text/plain": [
       "     COUNTY RACE  YEAR     POP\n",
       "0  15County   AA  2010  121054\n",
       "1  15County   AA  2011   63769\n",
       "2  15County   AA  2012   66927\n",
       "3  15County   AA  2013   71774\n",
       "4  15County   AA  2014   77219"
      ]
     },
     "execution_count": 12,
     "metadata": {},
     "output_type": "execute_result"
    }
   ],
   "source": [
    "# Step 1: Filter data for RACE == 'HNA' and RACE == 'NHNA'\n",
    "other_data = data6[data6['RACE'].isin(['NHIA', 'NHNA'])]\n",
    "\n",
    "# Step 2: Group by COUNTY, SOURCE, VINTAGE, and YEAR, and sum the POP\n",
    "combined_pop = other_data.groupby(['COUNTY', 'YEAR'], as_index=False)['POP'].sum()\n",
    "\n",
    "# Step 3: Add a new column for RACE with value 'NA'\n",
    "combined_pop['RACE'] = 'OTHER'\n",
    "\n",
    "# Step 4: Append the new rows to the original data\n",
    "data7 = pd.concat([data6, combined_pop], ignore_index=True)\n",
    "\n",
    "data7.to_csv(REGIONAL_SUMMARY_DATA_LABELED_PATH, index=False)\n",
    "\n",
    "# Display the first few rows of the updated dataframe\n",
    "data7.head()"
   ]
  },
  {
   "cell_type": "markdown",
   "id": "5ae90cbb-e57a-4691-9bd4-3fc36c281803",
   "metadata": {},
   "source": [
    "### Proportions"
   ]
  },
  {
   "cell_type": "code",
   "execution_count": 13,
   "id": "306a34b6-1fb5-469d-9c10-85cbc717ddd0",
   "metadata": {},
   "outputs": [
    {
     "data": {
      "text/html": [
       "<div>\n",
       "<style scoped>\n",
       "    .dataframe tbody tr th:only-of-type {\n",
       "        vertical-align: middle;\n",
       "    }\n",
       "\n",
       "    .dataframe tbody tr th {\n",
       "        vertical-align: top;\n",
       "    }\n",
       "\n",
       "    .dataframe thead th {\n",
       "        text-align: right;\n",
       "    }\n",
       "</style>\n",
       "<table border=\"1\" class=\"dataframe\">\n",
       "  <thead>\n",
       "    <tr style=\"text-align: right;\">\n",
       "      <th></th>\n",
       "      <th>COUNTY</th>\n",
       "      <th>YEAR</th>\n",
       "      <th>RACE</th>\n",
       "      <th>POP</th>\n",
       "      <th>POP_PROP</th>\n",
       "    </tr>\n",
       "  </thead>\n",
       "  <tbody>\n",
       "    <tr>\n",
       "      <th>0</th>\n",
       "      <td>15County</td>\n",
       "      <td>2010</td>\n",
       "      <td>HH</td>\n",
       "      <td>142849.0</td>\n",
       "      <td>0.032664</td>\n",
       "    </tr>\n",
       "    <tr>\n",
       "      <th>1</th>\n",
       "      <td>15County</td>\n",
       "      <td>2011</td>\n",
       "      <td>HH</td>\n",
       "      <td>73501.0</td>\n",
       "      <td>0.033310</td>\n",
       "    </tr>\n",
       "    <tr>\n",
       "      <th>2</th>\n",
       "      <td>15County</td>\n",
       "      <td>2012</td>\n",
       "      <td>HH</td>\n",
       "      <td>75822.0</td>\n",
       "      <td>0.034059</td>\n",
       "    </tr>\n",
       "    <tr>\n",
       "      <th>3</th>\n",
       "      <td>15County</td>\n",
       "      <td>2013</td>\n",
       "      <td>HH</td>\n",
       "      <td>78700.0</td>\n",
       "      <td>0.034933</td>\n",
       "    </tr>\n",
       "    <tr>\n",
       "      <th>4</th>\n",
       "      <td>15County</td>\n",
       "      <td>2014</td>\n",
       "      <td>HH</td>\n",
       "      <td>81701.0</td>\n",
       "      <td>0.035826</td>\n",
       "    </tr>\n",
       "  </tbody>\n",
       "</table>\n",
       "</div>"
      ],
      "text/plain": [
       "     COUNTY  YEAR RACE       POP  POP_PROP\n",
       "0  15County  2010   HH  142849.0  0.032664\n",
       "1  15County  2011   HH   73501.0  0.033310\n",
       "2  15County  2012   HH   75822.0  0.034059\n",
       "3  15County  2013   HH   78700.0  0.034933\n",
       "4  15County  2014   HH   81701.0  0.035826"
      ]
     },
     "execution_count": 13,
     "metadata": {},
     "output_type": "execute_result"
    }
   ],
   "source": [
    "# Filter the dataset to include only the specified RACE categories, including 'TOT'\n",
    "race_categories = {'NHAA', 'NHBA', 'NHWA', 'NHTOM', 'HH', 'OTHER', 'TOT'}\n",
    "filtered_data = data7[data7['RACE'].isin(race_categories)]\n",
    "\n",
    "# Pivot data to have RACE as columns for easier calculation of proportions\n",
    "pivot_df = filtered_data.pivot_table(index=['COUNTY', 'YEAR'], columns='RACE', values='POP', fill_value=0)\n",
    "\n",
    "# Calculate proportions by dividing each race population by the total population (TOT)\n",
    "for race in ['NHAA', 'NHBA', 'NHWA', 'NHTOM', 'HH', 'OTHER']:\n",
    "    pivot_df[f'{race}_proportion'] = pivot_df[race] / pivot_df['TOT']\n",
    "\n",
    "# Reset index for a more conventional DataFrame format\n",
    "proportions_df = pivot_df.reset_index()\n",
    "\n",
    "# Display the resulting DataFrame\n",
    "proportions_df[['COUNTY', 'YEAR'] + [f'{race}_proportion' for race in ['NHAA', 'NHBA', 'NHWA', 'NHTOM', 'HH', 'OTHER']]]\n",
    "\n",
    "\n",
    "df=proportions_df\n",
    "\n",
    "\n",
    "pop_df = df.melt(id_vars=['COUNTY', 'YEAR'], value_vars=['HH', 'NHAA', 'NHBA', 'NHTOM', 'NHWA', 'OTHER'], \n",
    "                 var_name='RACE', value_name='POP')\n",
    "\n",
    "# Melt the proportion columns to get 'POP_PROP' values for each RACE\n",
    "prop_df = df.melt(id_vars=['COUNTY', 'YEAR'], \n",
    "                  value_vars=['HH_proportion', 'NHAA_proportion', 'NHBA_proportion', 'NHTOM_proportion', 'NHWA_proportion', 'OTHER_proportion'], \n",
    "                  var_name='RACE_PROP', value_name='POP_PROP')\n",
    "\n",
    "# Adjust RACE column in the proportion data to match the format in pop_df\n",
    "prop_df['RACE'] = prop_df['RACE_PROP'].str.replace('_proportion', '')\n",
    "\n",
    "# Merge the two DataFrames on COUNTY, YEAR, and RACE to get POP and POP_PROP in a single DataFrame\n",
    "data8 = pd.merge(pop_df, prop_df[['COUNTY', 'YEAR', 'RACE', 'POP_PROP']], on=['COUNTY', 'YEAR', 'RACE'])\n",
    "\n",
    "data8.to_csv(REGIONAL_SUMMARY_DATA_LABELED_PATH, index=False)\n",
    "\n",
    "data8.head()"
   ]
  },
  {
   "cell_type": "markdown",
   "id": "3dc88d2e-0fa6-4a94-9c28-c2d7b4869efc",
   "metadata": {},
   "source": [
    "### Label map"
   ]
  },
  {
   "cell_type": "code",
   "execution_count": 14,
   "id": "d233ce64-c873-4df4-8a99-24f318882281",
   "metadata": {},
   "outputs": [
    {
     "data": {
      "text/html": [
       "<div>\n",
       "<style scoped>\n",
       "    .dataframe tbody tr th:only-of-type {\n",
       "        vertical-align: middle;\n",
       "    }\n",
       "\n",
       "    .dataframe tbody tr th {\n",
       "        vertical-align: top;\n",
       "    }\n",
       "\n",
       "    .dataframe thead th {\n",
       "        text-align: right;\n",
       "    }\n",
       "</style>\n",
       "<table border=\"1\" class=\"dataframe\">\n",
       "  <thead>\n",
       "    <tr style=\"text-align: right;\">\n",
       "      <th></th>\n",
       "      <th>COUNTY</th>\n",
       "      <th>YEAR</th>\n",
       "      <th>RACE</th>\n",
       "      <th>POP</th>\n",
       "      <th>POP_PROP</th>\n",
       "    </tr>\n",
       "  </thead>\n",
       "  <tbody>\n",
       "    <tr>\n",
       "      <th>0</th>\n",
       "      <td>15County</td>\n",
       "      <td>2010</td>\n",
       "      <td>Hispanic or Latio (any race)</td>\n",
       "      <td>142849.0</td>\n",
       "      <td>0.032664</td>\n",
       "    </tr>\n",
       "    <tr>\n",
       "      <th>1</th>\n",
       "      <td>15County</td>\n",
       "      <td>2011</td>\n",
       "      <td>Hispanic or Latio (any race)</td>\n",
       "      <td>73501.0</td>\n",
       "      <td>0.033310</td>\n",
       "    </tr>\n",
       "    <tr>\n",
       "      <th>2</th>\n",
       "      <td>15County</td>\n",
       "      <td>2012</td>\n",
       "      <td>Hispanic or Latio (any race)</td>\n",
       "      <td>75822.0</td>\n",
       "      <td>0.034059</td>\n",
       "    </tr>\n",
       "    <tr>\n",
       "      <th>3</th>\n",
       "      <td>15County</td>\n",
       "      <td>2013</td>\n",
       "      <td>Hispanic or Latio (any race)</td>\n",
       "      <td>78700.0</td>\n",
       "      <td>0.034933</td>\n",
       "    </tr>\n",
       "    <tr>\n",
       "      <th>4</th>\n",
       "      <td>15County</td>\n",
       "      <td>2014</td>\n",
       "      <td>Hispanic or Latio (any race)</td>\n",
       "      <td>81701.0</td>\n",
       "      <td>0.035826</td>\n",
       "    </tr>\n",
       "  </tbody>\n",
       "</table>\n",
       "</div>"
      ],
      "text/plain": [
       "     COUNTY  YEAR                          RACE       POP  POP_PROP\n",
       "0  15County  2010  Hispanic or Latio (any race)  142849.0  0.032664\n",
       "1  15County  2011  Hispanic or Latio (any race)   73501.0  0.033310\n",
       "2  15County  2012  Hispanic or Latio (any race)   75822.0  0.034059\n",
       "3  15County  2013  Hispanic or Latio (any race)   78700.0  0.034933\n",
       "4  15County  2014  Hispanic or Latio (any race)   81701.0  0.035826"
      ]
     },
     "execution_count": 14,
     "metadata": {},
     "output_type": "execute_result"
    }
   ],
   "source": [
    "# Now, filter out records where RACE is NOT in the specified set\n",
    "filtered_data = data8[data8['RACE'].isin(['NHAA', 'NHBA', 'NHWA', 'NHTOM', 'HH', 'OTHER'])]\n",
    "\n",
    "# Define a comprehensive mapping of race abbreviations to full race names\n",
    "race_mapping = {\n",
    "    \"NHAA\": \"Asian\",\n",
    "    \"HH\": \"Hispanic or Latio (any race)\",\n",
    "    \"NHBA\": \"Black or African American\",\n",
    "    \"OTHER\": \"Some other race alone\",\n",
    "    \"NHTOM\": \"Two or more races\",\n",
    "    \"NHWA\": \"White\"\n",
    "}\n",
    "\n",
    "# Apply the mapping to the 'RACE' column\n",
    "filtered_data['RACE'] = filtered_data['RACE'].map(race_mapping).fillna(filtered_data['RACE'])\n",
    "\n",
    "filtered_data.to_csv(REGIONAL_SUMMARY_DATA_LABELED_PATH, index=False)\n",
    "\n",
    "# Display the first few rows of the updated data\n",
    "filtered_data.head()"
   ]
  },
  {
   "cell_type": "markdown",
   "id": "f3c55b7f-0a9f-4cfe-9a8b-d73f1ff491a6",
   "metadata": {},
   "source": [
    "## Garphing"
   ]
  },
  {
   "cell_type": "markdown",
   "id": "51827fa3-3464-4fca-8512-175a503a6fc2",
   "metadata": {},
   "source": [
    "### Creating images for each region"
   ]
  },
  {
   "cell_type": "code",
   "execution_count": 15,
   "id": "c19f898e-9351-431c-9d09-491daa46a256",
   "metadata": {},
   "outputs": [
    {
     "data": {
      "text/plain": [
       "'AGO_County_ItemID_Mapping.csv'"
      ]
     },
     "execution_count": 15,
     "metadata": {},
     "output_type": "execute_result"
    }
   ],
   "source": [
    "import matplotlib.pyplot as plt\n",
    "\n",
    "# Load the uploaded file to review its content\n",
    "file_path =REGIONAL_SUMMARY_DATA_LABELED_PATH\n",
    "\n",
    "# Load the data from the CSV file\n",
    "data = pd.read_csv(file_path)\n",
    "\n",
    "# Set up output directory\n",
    "output_dir = 'outputData/plots'\n",
    "\n",
    "os.makedirs(output_dir, exist_ok=True)\n",
    "\n",
    "# Dictionary to store COUNTY to itemID mapping\n",
    "county_item_mapping = {}\n",
    "\n",
    "# Iterate over each county\n",
    "for county in data['COUNTY'].unique():\n",
    "    county_data = data[data['COUNTY'] == county]\n",
    "    \n",
    "    # Ensure 'YEAR', 'POP_PROP', and 'RACE' columns are present\n",
    "    county_data = county_data[['YEAR', 'POP_PROP', 'RACE']]\n",
    "    \n",
    "    # Aggregate to handle duplicates by taking the mean\n",
    "    county_data = county_data.groupby(['YEAR', 'RACE'], as_index=False).agg({'POP_PROP': 'mean'})\n",
    "    \n",
    "    # Pivot data to have 'RACE' as columns for plotting\n",
    "    county_data_pivot = county_data.pivot(index='YEAR', columns='RACE', values='POP_PROP')\n",
    "    \n",
    "    # Plot each county's data with adjacent bars\n",
    "    plt.figure(figsize=(16, 9))\n",
    "    bar_width = 0.15  # Reduced width for better spacing\n",
    "    x_positions = range(len(county_data_pivot.index))\n",
    "    \n",
    "    # Improved color palette\n",
    "    colors = ['#365072', '#34617A', '#0075BF', '#00B2BF', '#2A7F67', '#5AB65F']\n",
    "    \n",
    "    for i, (race, color) in enumerate(zip(county_data_pivot.columns, colors)):\n",
    "        plt.bar(\n",
    "            [x + i * bar_width for x in x_positions],\n",
    "            county_data_pivot[race],\n",
    "            width=bar_width,\n",
    "            label=race,\n",
    "            color=color\n",
    "        )\n",
    "    \n",
    "    # Adjust text sizes\n",
    "    plt.title(f\"{county} Population Over Time (By Race/Ethnicity)\", fontsize=25, pad=20)  # Larger title with padding\n",
    "    plt.ylabel(\"Population Proportion\", fontsize=20)  \n",
    "    plt.xticks(\n",
    "        [x + bar_width * (len(county_data_pivot.columns) - 1) / 2 for x in x_positions], \n",
    "        county_data_pivot.index, \n",
    "        rotation=30,  # Slightly tilt labels\n",
    "        fontsize=18  # Larger tick labels\n",
    "    )\n",
    "    plt.yticks(fontsize=18)  # Larger y-axis tick labels\n",
    "    plt.grid(axis='y', linestyle='--', alpha=0.7)  # Add light grid lines for y-axis\n",
    "    plt.legend(\n",
    "        loc='upper center', \n",
    "        bbox_to_anchor=(0.5, -0.12),  # Add more padding below the chart for legend\n",
    "        ncol=3,  # Limit to 3 columns for compactness\n",
    "        fontsize=20,  # Larger legend text\n",
    "        title_fontsize=16  # Larger legend title\n",
    "    )\n",
    "    \n",
    "    # Save the plot as a PNG file and add to mapping\n",
    "    plot_path = os.path.join(output_dir, f\"{county}_population_over_time_adjacent_V2.png\")\n",
    "    plt.savefig(plot_path, bbox_inches='tight')  # Use bbox_inches to avoid cropping\n",
    "    plt.close()\n",
    "    \n",
    "    # Placeholder ID for demonstration as upload to AGO isn't performed here\n",
    "    county_item_mapping[county] = f\"simulated_item_id_for_{county}\"\n",
    "\n",
    "\n",
    "# Convert the dictionary to a DataFrame and save\n",
    "mapping_df = pd.DataFrame(list(county_item_mapping.items()), columns=['COUNTY', 'itemID'])\n",
    "mapping_df['TilesetID'] = 14\n",
    "mapping_file_path = 'AGO_County_ItemID_Mapping.csv'\n",
    "mapping_df.to_csv(mapping_file_path, index=False)\n",
    "\n",
    "mapping_file_path"
   ]
  },
  {
   "cell_type": "markdown",
   "id": "c9a173d1-9cac-4731-a8c3-43d620bdb1ef",
   "metadata": {},
   "source": [
    "### Uploading images to AGO"
   ]
  },
  {
   "cell_type": "code",
   "execution_count": 18,
   "id": "b720f072-4514-45d0-9517-7205802ba9c0",
   "metadata": {
    "scrolled": true
   },
   "outputs": [
    {
     "name": "stdout",
     "output_type": "stream",
     "text": [
      "Deleted existing item with title: 15County population over time adjacent V2\n"
     ]
    },
    {
     "name": "stderr",
     "output_type": "stream",
     "text": [
      "C:\\Users\\ogwynn\\AppData\\Local\\Packages\\PythonSoftwareFoundation.Python.3.12_qbz5n2kfra8p0\\LocalCache\\local-packages\\Python312\\site-packages\\IPython\\core\\interactiveshell.py:3577: DeprecatedWarning: add is deprecated as of 2.3.0 and has been removed in 3.0.0. Use `Folder.add()` instead.\n",
      "  exec(code_obj, self.user_global_ns, self.user_ns)\n",
      "C:\\Users\\ogwynn\\AppData\\Local\\Packages\\PythonSoftwareFoundation.Python.3.12_qbz5n2kfra8p0\\LocalCache\\local-packages\\Python312\\site-packages\\IPython\\core\\interactiveshell.py:3577: DeprecatedWarning: share is deprecated as of 2.3.0 and has been removed in 3.0.0. Use `Item.sharing` instead.\n",
      "  exec(code_obj, self.user_global_ns, self.user_ns)\n"
     ]
    },
    {
     "name": "stdout",
     "output_type": "stream",
     "text": [
      "Uploaded 15County_population_over_time_adjacent_V2.png with item ID: 19df5d27de4e43c3b3b90e125ac0b56d and set it to public\n",
      "Deleted existing item with title: Delaware population over time adjacent V2\n"
     ]
    },
    {
     "name": "stderr",
     "output_type": "stream",
     "text": [
      "C:\\Users\\ogwynn\\AppData\\Local\\Packages\\PythonSoftwareFoundation.Python.3.12_qbz5n2kfra8p0\\LocalCache\\local-packages\\Python312\\site-packages\\IPython\\core\\interactiveshell.py:3577: DeprecatedWarning: add is deprecated as of 2.3.0 and has been removed in 3.0.0. Use `Folder.add()` instead.\n",
      "  exec(code_obj, self.user_global_ns, self.user_ns)\n",
      "C:\\Users\\ogwynn\\AppData\\Local\\Packages\\PythonSoftwareFoundation.Python.3.12_qbz5n2kfra8p0\\LocalCache\\local-packages\\Python312\\site-packages\\IPython\\core\\interactiveshell.py:3577: DeprecatedWarning: share is deprecated as of 2.3.0 and has been removed in 3.0.0. Use `Item.sharing` instead.\n",
      "  exec(code_obj, self.user_global_ns, self.user_ns)\n"
     ]
    },
    {
     "name": "stdout",
     "output_type": "stream",
     "text": [
      "Uploaded Delaware_population_over_time_adjacent_V2.png with item ID: eb69a1f944784958bcbbd45f580a072a and set it to public\n",
      "Deleted existing item with title: Fairfield population over time adjacent V2\n"
     ]
    },
    {
     "name": "stderr",
     "output_type": "stream",
     "text": [
      "C:\\Users\\ogwynn\\AppData\\Local\\Packages\\PythonSoftwareFoundation.Python.3.12_qbz5n2kfra8p0\\LocalCache\\local-packages\\Python312\\site-packages\\IPython\\core\\interactiveshell.py:3577: DeprecatedWarning: add is deprecated as of 2.3.0 and has been removed in 3.0.0. Use `Folder.add()` instead.\n",
      "  exec(code_obj, self.user_global_ns, self.user_ns)\n",
      "C:\\Users\\ogwynn\\AppData\\Local\\Packages\\PythonSoftwareFoundation.Python.3.12_qbz5n2kfra8p0\\LocalCache\\local-packages\\Python312\\site-packages\\IPython\\core\\interactiveshell.py:3577: DeprecatedWarning: share is deprecated as of 2.3.0 and has been removed in 3.0.0. Use `Item.sharing` instead.\n",
      "  exec(code_obj, self.user_global_ns, self.user_ns)\n"
     ]
    },
    {
     "name": "stdout",
     "output_type": "stream",
     "text": [
      "Uploaded Fairfield_population_over_time_adjacent_V2.png with item ID: 9db9155fbc6f4a34990ab225d33db385 and set it to public\n",
      "Deleted existing item with title: Fayette population over time adjacent V2\n"
     ]
    },
    {
     "name": "stderr",
     "output_type": "stream",
     "text": [
      "C:\\Users\\ogwynn\\AppData\\Local\\Packages\\PythonSoftwareFoundation.Python.3.12_qbz5n2kfra8p0\\LocalCache\\local-packages\\Python312\\site-packages\\IPython\\core\\interactiveshell.py:3577: DeprecatedWarning: add is deprecated as of 2.3.0 and has been removed in 3.0.0. Use `Folder.add()` instead.\n",
      "  exec(code_obj, self.user_global_ns, self.user_ns)\n",
      "C:\\Users\\ogwynn\\AppData\\Local\\Packages\\PythonSoftwareFoundation.Python.3.12_qbz5n2kfra8p0\\LocalCache\\local-packages\\Python312\\site-packages\\IPython\\core\\interactiveshell.py:3577: DeprecatedWarning: share is deprecated as of 2.3.0 and has been removed in 3.0.0. Use `Item.sharing` instead.\n",
      "  exec(code_obj, self.user_global_ns, self.user_ns)\n"
     ]
    },
    {
     "name": "stdout",
     "output_type": "stream",
     "text": [
      "Uploaded Fayette_population_over_time_adjacent_V2.png with item ID: bb133391f7e745848fba7e074c8e1bfe and set it to public\n",
      "Deleted existing item with title: Franklin population over time adjacent V2\n"
     ]
    },
    {
     "name": "stderr",
     "output_type": "stream",
     "text": [
      "C:\\Users\\ogwynn\\AppData\\Local\\Packages\\PythonSoftwareFoundation.Python.3.12_qbz5n2kfra8p0\\LocalCache\\local-packages\\Python312\\site-packages\\IPython\\core\\interactiveshell.py:3577: DeprecatedWarning: add is deprecated as of 2.3.0 and has been removed in 3.0.0. Use `Folder.add()` instead.\n",
      "  exec(code_obj, self.user_global_ns, self.user_ns)\n",
      "C:\\Users\\ogwynn\\AppData\\Local\\Packages\\PythonSoftwareFoundation.Python.3.12_qbz5n2kfra8p0\\LocalCache\\local-packages\\Python312\\site-packages\\IPython\\core\\interactiveshell.py:3577: DeprecatedWarning: share is deprecated as of 2.3.0 and has been removed in 3.0.0. Use `Item.sharing` instead.\n",
      "  exec(code_obj, self.user_global_ns, self.user_ns)\n"
     ]
    },
    {
     "name": "stdout",
     "output_type": "stream",
     "text": [
      "Uploaded Franklin_population_over_time_adjacent_V2.png with item ID: 90818486c6fe4c6a9337f0c45b270c7b and set it to public\n",
      "Deleted existing item with title: Hocking population over time adjacent V2\n"
     ]
    },
    {
     "name": "stderr",
     "output_type": "stream",
     "text": [
      "C:\\Users\\ogwynn\\AppData\\Local\\Packages\\PythonSoftwareFoundation.Python.3.12_qbz5n2kfra8p0\\LocalCache\\local-packages\\Python312\\site-packages\\IPython\\core\\interactiveshell.py:3577: DeprecatedWarning: add is deprecated as of 2.3.0 and has been removed in 3.0.0. Use `Folder.add()` instead.\n",
      "  exec(code_obj, self.user_global_ns, self.user_ns)\n",
      "C:\\Users\\ogwynn\\AppData\\Local\\Packages\\PythonSoftwareFoundation.Python.3.12_qbz5n2kfra8p0\\LocalCache\\local-packages\\Python312\\site-packages\\IPython\\core\\interactiveshell.py:3577: DeprecatedWarning: share is deprecated as of 2.3.0 and has been removed in 3.0.0. Use `Item.sharing` instead.\n",
      "  exec(code_obj, self.user_global_ns, self.user_ns)\n"
     ]
    },
    {
     "name": "stdout",
     "output_type": "stream",
     "text": [
      "Uploaded Hocking_population_over_time_adjacent_V2.png with item ID: 07957a40aa924783bf9a8e103f3302e6 and set it to public\n",
      "Deleted existing item with title: Knox population over time adjacent V2\n"
     ]
    },
    {
     "name": "stderr",
     "output_type": "stream",
     "text": [
      "C:\\Users\\ogwynn\\AppData\\Local\\Packages\\PythonSoftwareFoundation.Python.3.12_qbz5n2kfra8p0\\LocalCache\\local-packages\\Python312\\site-packages\\IPython\\core\\interactiveshell.py:3577: DeprecatedWarning: add is deprecated as of 2.3.0 and has been removed in 3.0.0. Use `Folder.add()` instead.\n",
      "  exec(code_obj, self.user_global_ns, self.user_ns)\n",
      "C:\\Users\\ogwynn\\AppData\\Local\\Packages\\PythonSoftwareFoundation.Python.3.12_qbz5n2kfra8p0\\LocalCache\\local-packages\\Python312\\site-packages\\IPython\\core\\interactiveshell.py:3577: DeprecatedWarning: share is deprecated as of 2.3.0 and has been removed in 3.0.0. Use `Item.sharing` instead.\n",
      "  exec(code_obj, self.user_global_ns, self.user_ns)\n"
     ]
    },
    {
     "name": "stdout",
     "output_type": "stream",
     "text": [
      "Uploaded Knox_population_over_time_adjacent_V2.png with item ID: 81e82855f14c4a7bb53e6f6f8fd7bad8 and set it to public\n",
      "Deleted existing item with title: Licking population over time adjacent V2\n"
     ]
    },
    {
     "name": "stderr",
     "output_type": "stream",
     "text": [
      "C:\\Users\\ogwynn\\AppData\\Local\\Packages\\PythonSoftwareFoundation.Python.3.12_qbz5n2kfra8p0\\LocalCache\\local-packages\\Python312\\site-packages\\IPython\\core\\interactiveshell.py:3577: DeprecatedWarning: add is deprecated as of 2.3.0 and has been removed in 3.0.0. Use `Folder.add()` instead.\n",
      "  exec(code_obj, self.user_global_ns, self.user_ns)\n",
      "C:\\Users\\ogwynn\\AppData\\Local\\Packages\\PythonSoftwareFoundation.Python.3.12_qbz5n2kfra8p0\\LocalCache\\local-packages\\Python312\\site-packages\\IPython\\core\\interactiveshell.py:3577: DeprecatedWarning: share is deprecated as of 2.3.0 and has been removed in 3.0.0. Use `Item.sharing` instead.\n",
      "  exec(code_obj, self.user_global_ns, self.user_ns)\n"
     ]
    },
    {
     "name": "stdout",
     "output_type": "stream",
     "text": [
      "Uploaded Licking_population_over_time_adjacent_V2.png with item ID: d4f57f7a1d134ecebe11fd2f96a14e23 and set it to public\n",
      "Deleted existing item with title: Logan population over time adjacent V2\n"
     ]
    },
    {
     "name": "stderr",
     "output_type": "stream",
     "text": [
      "C:\\Users\\ogwynn\\AppData\\Local\\Packages\\PythonSoftwareFoundation.Python.3.12_qbz5n2kfra8p0\\LocalCache\\local-packages\\Python312\\site-packages\\IPython\\core\\interactiveshell.py:3577: DeprecatedWarning: add is deprecated as of 2.3.0 and has been removed in 3.0.0. Use `Folder.add()` instead.\n",
      "  exec(code_obj, self.user_global_ns, self.user_ns)\n",
      "C:\\Users\\ogwynn\\AppData\\Local\\Packages\\PythonSoftwareFoundation.Python.3.12_qbz5n2kfra8p0\\LocalCache\\local-packages\\Python312\\site-packages\\IPython\\core\\interactiveshell.py:3577: DeprecatedWarning: share is deprecated as of 2.3.0 and has been removed in 3.0.0. Use `Item.sharing` instead.\n",
      "  exec(code_obj, self.user_global_ns, self.user_ns)\n"
     ]
    },
    {
     "name": "stdout",
     "output_type": "stream",
     "text": [
      "Uploaded Logan_population_over_time_adjacent_V2.png with item ID: 347c54e36d6c49ef93c41393a54d7eb1 and set it to public\n",
      "Deleted existing item with title: Madison population over time adjacent V2\n"
     ]
    },
    {
     "name": "stderr",
     "output_type": "stream",
     "text": [
      "C:\\Users\\ogwynn\\AppData\\Local\\Packages\\PythonSoftwareFoundation.Python.3.12_qbz5n2kfra8p0\\LocalCache\\local-packages\\Python312\\site-packages\\IPython\\core\\interactiveshell.py:3577: DeprecatedWarning: add is deprecated as of 2.3.0 and has been removed in 3.0.0. Use `Folder.add()` instead.\n",
      "  exec(code_obj, self.user_global_ns, self.user_ns)\n",
      "C:\\Users\\ogwynn\\AppData\\Local\\Packages\\PythonSoftwareFoundation.Python.3.12_qbz5n2kfra8p0\\LocalCache\\local-packages\\Python312\\site-packages\\IPython\\core\\interactiveshell.py:3577: DeprecatedWarning: share is deprecated as of 2.3.0 and has been removed in 3.0.0. Use `Item.sharing` instead.\n",
      "  exec(code_obj, self.user_global_ns, self.user_ns)\n"
     ]
    },
    {
     "name": "stdout",
     "output_type": "stream",
     "text": [
      "Uploaded Madison_population_over_time_adjacent_V2.png with item ID: 4559daee31244a5ea956bf3fab1a78d0 and set it to public\n",
      "Deleted existing item with title: Marion population over time adjacent V2\n"
     ]
    },
    {
     "name": "stderr",
     "output_type": "stream",
     "text": [
      "C:\\Users\\ogwynn\\AppData\\Local\\Packages\\PythonSoftwareFoundation.Python.3.12_qbz5n2kfra8p0\\LocalCache\\local-packages\\Python312\\site-packages\\IPython\\core\\interactiveshell.py:3577: DeprecatedWarning: add is deprecated as of 2.3.0 and has been removed in 3.0.0. Use `Folder.add()` instead.\n",
      "  exec(code_obj, self.user_global_ns, self.user_ns)\n",
      "C:\\Users\\ogwynn\\AppData\\Local\\Packages\\PythonSoftwareFoundation.Python.3.12_qbz5n2kfra8p0\\LocalCache\\local-packages\\Python312\\site-packages\\IPython\\core\\interactiveshell.py:3577: DeprecatedWarning: share is deprecated as of 2.3.0 and has been removed in 3.0.0. Use `Item.sharing` instead.\n",
      "  exec(code_obj, self.user_global_ns, self.user_ns)\n"
     ]
    },
    {
     "name": "stdout",
     "output_type": "stream",
     "text": [
      "Uploaded Marion_population_over_time_adjacent_V2.png with item ID: ea331950a2a64fd980aef2613e0ea88f and set it to public\n",
      "Deleted existing item with title: Morrow population over time adjacent V2\n"
     ]
    },
    {
     "name": "stderr",
     "output_type": "stream",
     "text": [
      "C:\\Users\\ogwynn\\AppData\\Local\\Packages\\PythonSoftwareFoundation.Python.3.12_qbz5n2kfra8p0\\LocalCache\\local-packages\\Python312\\site-packages\\IPython\\core\\interactiveshell.py:3577: DeprecatedWarning: add is deprecated as of 2.3.0 and has been removed in 3.0.0. Use `Folder.add()` instead.\n",
      "  exec(code_obj, self.user_global_ns, self.user_ns)\n",
      "C:\\Users\\ogwynn\\AppData\\Local\\Packages\\PythonSoftwareFoundation.Python.3.12_qbz5n2kfra8p0\\LocalCache\\local-packages\\Python312\\site-packages\\IPython\\core\\interactiveshell.py:3577: DeprecatedWarning: share is deprecated as of 2.3.0 and has been removed in 3.0.0. Use `Item.sharing` instead.\n",
      "  exec(code_obj, self.user_global_ns, self.user_ns)\n"
     ]
    },
    {
     "name": "stdout",
     "output_type": "stream",
     "text": [
      "Uploaded Morrow_population_over_time_adjacent_V2.png with item ID: 5547cbe1497d461ca8f14b65b96f87cb and set it to public\n",
      "Deleted existing item with title: Perry population over time adjacent V2\n"
     ]
    },
    {
     "name": "stderr",
     "output_type": "stream",
     "text": [
      "C:\\Users\\ogwynn\\AppData\\Local\\Packages\\PythonSoftwareFoundation.Python.3.12_qbz5n2kfra8p0\\LocalCache\\local-packages\\Python312\\site-packages\\IPython\\core\\interactiveshell.py:3577: DeprecatedWarning: add is deprecated as of 2.3.0 and has been removed in 3.0.0. Use `Folder.add()` instead.\n",
      "  exec(code_obj, self.user_global_ns, self.user_ns)\n",
      "C:\\Users\\ogwynn\\AppData\\Local\\Packages\\PythonSoftwareFoundation.Python.3.12_qbz5n2kfra8p0\\LocalCache\\local-packages\\Python312\\site-packages\\IPython\\core\\interactiveshell.py:3577: DeprecatedWarning: share is deprecated as of 2.3.0 and has been removed in 3.0.0. Use `Item.sharing` instead.\n",
      "  exec(code_obj, self.user_global_ns, self.user_ns)\n"
     ]
    },
    {
     "name": "stdout",
     "output_type": "stream",
     "text": [
      "Uploaded Perry_population_over_time_adjacent_V2.png with item ID: dfdc6599ea5d403b88d132bd2fef3432 and set it to public\n",
      "Deleted existing item with title: Pickaway population over time adjacent V2\n"
     ]
    },
    {
     "name": "stderr",
     "output_type": "stream",
     "text": [
      "C:\\Users\\ogwynn\\AppData\\Local\\Packages\\PythonSoftwareFoundation.Python.3.12_qbz5n2kfra8p0\\LocalCache\\local-packages\\Python312\\site-packages\\IPython\\core\\interactiveshell.py:3577: DeprecatedWarning: add is deprecated as of 2.3.0 and has been removed in 3.0.0. Use `Folder.add()` instead.\n",
      "  exec(code_obj, self.user_global_ns, self.user_ns)\n",
      "C:\\Users\\ogwynn\\AppData\\Local\\Packages\\PythonSoftwareFoundation.Python.3.12_qbz5n2kfra8p0\\LocalCache\\local-packages\\Python312\\site-packages\\IPython\\core\\interactiveshell.py:3577: DeprecatedWarning: share is deprecated as of 2.3.0 and has been removed in 3.0.0. Use `Item.sharing` instead.\n",
      "  exec(code_obj, self.user_global_ns, self.user_ns)\n"
     ]
    },
    {
     "name": "stdout",
     "output_type": "stream",
     "text": [
      "Uploaded Pickaway_population_over_time_adjacent_V2.png with item ID: b185c67e802e4d7bb9673e89c154e30b and set it to public\n",
      "Deleted existing item with title: Ross population over time adjacent V2\n"
     ]
    },
    {
     "name": "stderr",
     "output_type": "stream",
     "text": [
      "C:\\Users\\ogwynn\\AppData\\Local\\Packages\\PythonSoftwareFoundation.Python.3.12_qbz5n2kfra8p0\\LocalCache\\local-packages\\Python312\\site-packages\\IPython\\core\\interactiveshell.py:3577: DeprecatedWarning: add is deprecated as of 2.3.0 and has been removed in 3.0.0. Use `Folder.add()` instead.\n",
      "  exec(code_obj, self.user_global_ns, self.user_ns)\n",
      "C:\\Users\\ogwynn\\AppData\\Local\\Packages\\PythonSoftwareFoundation.Python.3.12_qbz5n2kfra8p0\\LocalCache\\local-packages\\Python312\\site-packages\\IPython\\core\\interactiveshell.py:3577: DeprecatedWarning: share is deprecated as of 2.3.0 and has been removed in 3.0.0. Use `Item.sharing` instead.\n",
      "  exec(code_obj, self.user_global_ns, self.user_ns)\n"
     ]
    },
    {
     "name": "stdout",
     "output_type": "stream",
     "text": [
      "Uploaded Ross_population_over_time_adjacent_V2.png with item ID: e30eeca61ca7498f8b0952e653b13fba and set it to public\n",
      "Deleted existing item with title: Union population over time adjacent V2\n"
     ]
    },
    {
     "name": "stderr",
     "output_type": "stream",
     "text": [
      "C:\\Users\\ogwynn\\AppData\\Local\\Packages\\PythonSoftwareFoundation.Python.3.12_qbz5n2kfra8p0\\LocalCache\\local-packages\\Python312\\site-packages\\IPython\\core\\interactiveshell.py:3577: DeprecatedWarning: add is deprecated as of 2.3.0 and has been removed in 3.0.0. Use `Folder.add()` instead.\n",
      "  exec(code_obj, self.user_global_ns, self.user_ns)\n",
      "C:\\Users\\ogwynn\\AppData\\Local\\Packages\\PythonSoftwareFoundation.Python.3.12_qbz5n2kfra8p0\\LocalCache\\local-packages\\Python312\\site-packages\\IPython\\core\\interactiveshell.py:3577: DeprecatedWarning: share is deprecated as of 2.3.0 and has been removed in 3.0.0. Use `Item.sharing` instead.\n",
      "  exec(code_obj, self.user_global_ns, self.user_ns)\n"
     ]
    },
    {
     "name": "stdout",
     "output_type": "stream",
     "text": [
      "Uploaded Union_population_over_time_adjacent_V2.png with item ID: f4dfc2381a724e1597ffb1b6aee241c7 and set it to public\n"
     ]
    }
   ],
   "source": [
    "import time\n",
    "from arcgis.gis import GIS\n",
    "import os\n",
    "import pandas as pd\n",
    "\n",
    "# Connect to ArcGIS Online\n",
    "gis = GIS(\"https://www.arcgis.com\", \"ogwynn_morpc\", \"Cr33p3r11!!\")\n",
    "\n",
    "# Directory where images are saved\n",
    "output_dir = 'outputData/plots'\n",
    "\n",
    "# Initialize dictionary to store county-item mappings\n",
    "county_item_mapping = {}\n",
    "\n",
    "# Loop through each file in the directory and upload it\n",
    "for filename in os.listdir(output_dir):\n",
    "    if filename.endswith(\".png\"):\n",
    "        file_path = os.path.join(output_dir, filename)\n",
    "        \n",
    "        # Define item properties\n",
    "        title = filename.replace(\"_\", \" \").replace(\".png\", \"\")\n",
    "        county_name = filename.split('_')[0]  # Extract county name from the filename\n",
    "        item_properties = {\n",
    "            \"title\": title,\n",
    "            \"tags\": \"county, population, race, demographics\",\n",
    "            \"description\": f\"Population proportion over time by race for {county_name} county.\",\n",
    "            \"type\": \"Image\"\n",
    "        }\n",
    "        \n",
    "        # Search for an existing item with the same title\n",
    "        existing_items = gis.content.search(query=title, item_type=\"Image\", max_items=1)\n",
    "        if existing_items:\n",
    "            # If an existing item is found, delete it\n",
    "            existing_item = existing_items[0]\n",
    "            existing_item.delete()\n",
    "            print(f\"Deleted existing item with title: {title}\")\n",
    "            time.sleep(2)  # Wait for 2 seconds before uploading the new item\n",
    "\n",
    "\n",
    "        try:\n",
    "            # Upload the new image\n",
    "            image_item = gis.content.add(item_properties, data=file_path)\n",
    "            \n",
    "            # Make the item public\n",
    "            image_item.share(everyone=True)\n",
    "\n",
    "            # Store item ID in the dictionary\n",
    "            county_item_mapping[county_name] = f\"https://morpc.maps.arcgis.com/sharing/rest/content/items/{image_item.id}/data\"\n",
    "            \n",
    "            # Print confirmation\n",
    "            print(f\"Uploaded {filename} with item ID: {image_item.id} and set it to public\")\n",
    "        \n",
    "        except Exception as e:\n",
    "            print(f\"Error uploading {filename}: {e}\")\n",
    "\n",
    "# Convert the dictionary to a DataFrame and save\n",
    "mapping_df = pd.DataFrame(list(county_item_mapping.items()), columns=['COUNTY', 'itemID'])\n",
    "mapping_df['TilesetID'] = 14\n",
    "mapping_file_path = 'AGO_County_ItemID_Mapping.csv'\n",
    "mapping_df.to_csv(mapping_file_path, index=False)\n",
    "\n"
   ]
  },
  {
   "cell_type": "markdown",
   "id": "ecbb8353-651b-4ac3-80c7-975dc6ce3693",
   "metadata": {},
   "source": [
    "### Update Metadata Local"
   ]
  },
  {
   "cell_type": "code",
   "execution_count": 19,
   "id": "708c8f20-56ec-4e3b-84d2-a494aba004a0",
   "metadata": {},
   "outputs": [
    {
     "name": "stdout",
     "output_type": "stream",
     "text": [
      "Updated catalog saved at: outputData/morpc_insights_catalog_updated.xlsx\n"
     ]
    }
   ],
   "source": [
    "import pandas as pd\n",
    "\n",
    "# Load the catalog data\n",
    "catalog_df = pd.read_excel(catalog_path)\n",
    "\n",
    "# Load the mapping data\n",
    "mapping_df = pd.read_csv(mapping_file_path)\n",
    "\n",
    "# Ensure consistent naming\n",
    "mapping_df['COUNTY'] = mapping_df['COUNTY'].replace('15-County', '15County')\n",
    "\n",
    "# Select only necessary columns from mapping_df\n",
    "selected_mapping_df = mapping_df[['COUNTY', 'TilesetID', 'itemID']]\n",
    "\n",
    "# Merge while keeping all columns from catalog_df\n",
    "merged_df = catalog_df.merge(\n",
    "    selected_mapping_df,\n",
    "    left_on=['GeographyName', 'TilesetID'],\n",
    "    right_on=['COUNTY', 'TilesetID'],\n",
    "    how='left'\n",
    ")\n",
    "\n",
    "# Update 'ThumbnailURL' using 'itemID' where applicable\n",
    "merged_df['ThumbnailURL'] = merged_df['itemID'].combine_first(merged_df['ThumbnailURL'])\n",
    "\n",
    "# Drop unnecessary columns from the merged dataset\n",
    "merged_df = merged_df.drop(columns=['COUNTY', 'itemID'], errors='ignore')\n",
    "\n",
    "# Ensure the final DataFrame retains only original catalog_df columns (plus the updated ThumbnailURL)\n",
    "expected_columns = list(catalog_df.columns)  # Retain all original columns\n",
    "if 'ThumbnailURL' not in expected_columns:\n",
    "    expected_columns.append('ThumbnailURL')  # Ensure ThumbnailURL is included\n",
    "\n",
    "merged_df = merged_df[expected_columns]  # Reorder columns to match the original catalog\n",
    "\n",
    "# Save the updated catalog back to an Excel file\n",
    "updated_catalog_path = \"outputData/morpc_insights_catalog_updated.xlsx\"\n",
    "merged_df.to_excel(updated_catalog_path, index=False)\n",
    "\n",
    "print(f\"Updated catalog saved at: {updated_catalog_path}\")\n"
   ]
  },
  {
   "cell_type": "markdown",
   "id": "49b955f2-413a-40ca-8120-3c3f59308512",
   "metadata": {},
   "source": [
    "### Pushing changes to AGO"
   ]
  },
  {
   "cell_type": "code",
   "execution_count": 20,
   "id": "1d2083a7-701d-4644-832c-3390c9f2d10e",
   "metadata": {},
   "outputs": [
    {
     "name": "stdout",
     "output_type": "stream",
     "text": [
      "Found item: morpc_insights_catalog (c396b9d0db724d1f870fa47f1d1dc1ce)\n",
      "Successfully replaced morpc_insights_catalog with the new file.\n"
     ]
    }
   ],
   "source": [
    "from arcgis.gis import GIS\n",
    "\n",
    "# Title or Item ID of the existing XLSX file in AGO\n",
    "item_id = \"c396b9d0db724d1f870fa47f1d1dc1ce\"\n",
    "local_xlsx_path = updated_catalog_path\n",
    "\n",
    "# --- Search for the Existing Item ---\n",
    "items = gis.content.search(item_id, item_type=\"Microsoft Excel\")\n",
    "if not items:\n",
    "    print(\"Error: No matching XLSX file found.\")\n",
    "else:\n",
    "    item = items[0]  # Assuming the first match is correct\n",
    "    print(f\"Found item: {item.title} ({item.id})\")\n",
    "\n",
    "    # --- Update the Item with the New File ---\n",
    "    item.update({}, local_xlsx_path)\n",
    "\n",
    "    print(f\"Successfully replaced {item.title} with the new file.\")\n"
   ]
  },
  {
   "cell_type": "markdown",
   "id": "1a8ab9af-050e-4152-bedd-1d37e764727a",
   "metadata": {
    "jp-MarkdownHeadingCollapsed": true
   },
   "source": [
    "### Creating Excel sheet and viz for each region"
   ]
  },
  {
   "cell_type": "code",
   "execution_count": 1,
   "id": "e9e9072b-5a76-453b-bf1d-7707c2f39428",
   "metadata": {},
   "outputs": [
    {
     "ename": "FileNotFoundError",
     "evalue": "[Errno 2] No such file or directory: 'outputData/MORPC_Crashes_2019-2023_regional_summary_WIDE.csv'",
     "output_type": "error",
     "traceback": [
      "\u001b[1;31m---------------------------------------------------------------------------\u001b[0m",
      "\u001b[1;31mFileNotFoundError\u001b[0m                         Traceback (most recent call last)",
      "Cell \u001b[1;32mIn[1], line 12\u001b[0m\n\u001b[0;32m      9\u001b[0m output_excel_path \u001b[38;5;241m=\u001b[39m \u001b[38;5;124m'\u001b[39m\u001b[38;5;124moutputData/Regional_Crash_Reports.xlsx\u001b[39m\u001b[38;5;124m'\u001b[39m\n\u001b[0;32m     11\u001b[0m \u001b[38;5;66;03m# Load data\u001b[39;00m\n\u001b[1;32m---> 12\u001b[0m df_wide \u001b[38;5;241m=\u001b[39m \u001b[43mpd\u001b[49m\u001b[38;5;241;43m.\u001b[39;49m\u001b[43mread_csv\u001b[49m\u001b[43m(\u001b[49m\u001b[43mfile_path_wide\u001b[49m\u001b[43m)\u001b[49m\n\u001b[0;32m     13\u001b[0m df_long \u001b[38;5;241m=\u001b[39m pd\u001b[38;5;241m.\u001b[39mread_csv(file_path_long)\n\u001b[0;32m     15\u001b[0m \u001b[38;5;66;03m# List of selected counties\u001b[39;00m\n",
      "File \u001b[1;32m~\\AppData\\Local\\Packages\\PythonSoftwareFoundation.Python.3.12_qbz5n2kfra8p0\\LocalCache\\local-packages\\Python312\\site-packages\\pandas\\io\\parsers\\readers.py:948\u001b[0m, in \u001b[0;36mread_csv\u001b[1;34m(filepath_or_buffer, sep, delimiter, header, names, index_col, usecols, dtype, engine, converters, true_values, false_values, skipinitialspace, skiprows, skipfooter, nrows, na_values, keep_default_na, na_filter, verbose, skip_blank_lines, parse_dates, infer_datetime_format, keep_date_col, date_parser, date_format, dayfirst, cache_dates, iterator, chunksize, compression, thousands, decimal, lineterminator, quotechar, quoting, doublequote, escapechar, comment, encoding, encoding_errors, dialect, on_bad_lines, delim_whitespace, low_memory, memory_map, float_precision, storage_options, dtype_backend)\u001b[0m\n\u001b[0;32m    935\u001b[0m kwds_defaults \u001b[38;5;241m=\u001b[39m _refine_defaults_read(\n\u001b[0;32m    936\u001b[0m     dialect,\n\u001b[0;32m    937\u001b[0m     delimiter,\n\u001b[1;32m   (...)\u001b[0m\n\u001b[0;32m    944\u001b[0m     dtype_backend\u001b[38;5;241m=\u001b[39mdtype_backend,\n\u001b[0;32m    945\u001b[0m )\n\u001b[0;32m    946\u001b[0m kwds\u001b[38;5;241m.\u001b[39mupdate(kwds_defaults)\n\u001b[1;32m--> 948\u001b[0m \u001b[38;5;28;01mreturn\u001b[39;00m \u001b[43m_read\u001b[49m\u001b[43m(\u001b[49m\u001b[43mfilepath_or_buffer\u001b[49m\u001b[43m,\u001b[49m\u001b[43m \u001b[49m\u001b[43mkwds\u001b[49m\u001b[43m)\u001b[49m\n",
      "File \u001b[1;32m~\\AppData\\Local\\Packages\\PythonSoftwareFoundation.Python.3.12_qbz5n2kfra8p0\\LocalCache\\local-packages\\Python312\\site-packages\\pandas\\io\\parsers\\readers.py:611\u001b[0m, in \u001b[0;36m_read\u001b[1;34m(filepath_or_buffer, kwds)\u001b[0m\n\u001b[0;32m    608\u001b[0m _validate_names(kwds\u001b[38;5;241m.\u001b[39mget(\u001b[38;5;124m\"\u001b[39m\u001b[38;5;124mnames\u001b[39m\u001b[38;5;124m\"\u001b[39m, \u001b[38;5;28;01mNone\u001b[39;00m))\n\u001b[0;32m    610\u001b[0m \u001b[38;5;66;03m# Create the parser.\u001b[39;00m\n\u001b[1;32m--> 611\u001b[0m parser \u001b[38;5;241m=\u001b[39m \u001b[43mTextFileReader\u001b[49m\u001b[43m(\u001b[49m\u001b[43mfilepath_or_buffer\u001b[49m\u001b[43m,\u001b[49m\u001b[43m \u001b[49m\u001b[38;5;241;43m*\u001b[39;49m\u001b[38;5;241;43m*\u001b[39;49m\u001b[43mkwds\u001b[49m\u001b[43m)\u001b[49m\n\u001b[0;32m    613\u001b[0m \u001b[38;5;28;01mif\u001b[39;00m chunksize \u001b[38;5;129;01mor\u001b[39;00m iterator:\n\u001b[0;32m    614\u001b[0m     \u001b[38;5;28;01mreturn\u001b[39;00m parser\n",
      "File \u001b[1;32m~\\AppData\\Local\\Packages\\PythonSoftwareFoundation.Python.3.12_qbz5n2kfra8p0\\LocalCache\\local-packages\\Python312\\site-packages\\pandas\\io\\parsers\\readers.py:1448\u001b[0m, in \u001b[0;36mTextFileReader.__init__\u001b[1;34m(self, f, engine, **kwds)\u001b[0m\n\u001b[0;32m   1445\u001b[0m     \u001b[38;5;28mself\u001b[39m\u001b[38;5;241m.\u001b[39moptions[\u001b[38;5;124m\"\u001b[39m\u001b[38;5;124mhas_index_names\u001b[39m\u001b[38;5;124m\"\u001b[39m] \u001b[38;5;241m=\u001b[39m kwds[\u001b[38;5;124m\"\u001b[39m\u001b[38;5;124mhas_index_names\u001b[39m\u001b[38;5;124m\"\u001b[39m]\n\u001b[0;32m   1447\u001b[0m \u001b[38;5;28mself\u001b[39m\u001b[38;5;241m.\u001b[39mhandles: IOHandles \u001b[38;5;241m|\u001b[39m \u001b[38;5;28;01mNone\u001b[39;00m \u001b[38;5;241m=\u001b[39m \u001b[38;5;28;01mNone\u001b[39;00m\n\u001b[1;32m-> 1448\u001b[0m \u001b[38;5;28mself\u001b[39m\u001b[38;5;241m.\u001b[39m_engine \u001b[38;5;241m=\u001b[39m \u001b[38;5;28;43mself\u001b[39;49m\u001b[38;5;241;43m.\u001b[39;49m\u001b[43m_make_engine\u001b[49m\u001b[43m(\u001b[49m\u001b[43mf\u001b[49m\u001b[43m,\u001b[49m\u001b[43m \u001b[49m\u001b[38;5;28;43mself\u001b[39;49m\u001b[38;5;241;43m.\u001b[39;49m\u001b[43mengine\u001b[49m\u001b[43m)\u001b[49m\n",
      "File \u001b[1;32m~\\AppData\\Local\\Packages\\PythonSoftwareFoundation.Python.3.12_qbz5n2kfra8p0\\LocalCache\\local-packages\\Python312\\site-packages\\pandas\\io\\parsers\\readers.py:1705\u001b[0m, in \u001b[0;36mTextFileReader._make_engine\u001b[1;34m(self, f, engine)\u001b[0m\n\u001b[0;32m   1703\u001b[0m     \u001b[38;5;28;01mif\u001b[39;00m \u001b[38;5;124m\"\u001b[39m\u001b[38;5;124mb\u001b[39m\u001b[38;5;124m\"\u001b[39m \u001b[38;5;129;01mnot\u001b[39;00m \u001b[38;5;129;01min\u001b[39;00m mode:\n\u001b[0;32m   1704\u001b[0m         mode \u001b[38;5;241m+\u001b[39m\u001b[38;5;241m=\u001b[39m \u001b[38;5;124m\"\u001b[39m\u001b[38;5;124mb\u001b[39m\u001b[38;5;124m\"\u001b[39m\n\u001b[1;32m-> 1705\u001b[0m \u001b[38;5;28mself\u001b[39m\u001b[38;5;241m.\u001b[39mhandles \u001b[38;5;241m=\u001b[39m \u001b[43mget_handle\u001b[49m\u001b[43m(\u001b[49m\n\u001b[0;32m   1706\u001b[0m \u001b[43m    \u001b[49m\u001b[43mf\u001b[49m\u001b[43m,\u001b[49m\n\u001b[0;32m   1707\u001b[0m \u001b[43m    \u001b[49m\u001b[43mmode\u001b[49m\u001b[43m,\u001b[49m\n\u001b[0;32m   1708\u001b[0m \u001b[43m    \u001b[49m\u001b[43mencoding\u001b[49m\u001b[38;5;241;43m=\u001b[39;49m\u001b[38;5;28;43mself\u001b[39;49m\u001b[38;5;241;43m.\u001b[39;49m\u001b[43moptions\u001b[49m\u001b[38;5;241;43m.\u001b[39;49m\u001b[43mget\u001b[49m\u001b[43m(\u001b[49m\u001b[38;5;124;43m\"\u001b[39;49m\u001b[38;5;124;43mencoding\u001b[39;49m\u001b[38;5;124;43m\"\u001b[39;49m\u001b[43m,\u001b[49m\u001b[43m \u001b[49m\u001b[38;5;28;43;01mNone\u001b[39;49;00m\u001b[43m)\u001b[49m\u001b[43m,\u001b[49m\n\u001b[0;32m   1709\u001b[0m \u001b[43m    \u001b[49m\u001b[43mcompression\u001b[49m\u001b[38;5;241;43m=\u001b[39;49m\u001b[38;5;28;43mself\u001b[39;49m\u001b[38;5;241;43m.\u001b[39;49m\u001b[43moptions\u001b[49m\u001b[38;5;241;43m.\u001b[39;49m\u001b[43mget\u001b[49m\u001b[43m(\u001b[49m\u001b[38;5;124;43m\"\u001b[39;49m\u001b[38;5;124;43mcompression\u001b[39;49m\u001b[38;5;124;43m\"\u001b[39;49m\u001b[43m,\u001b[49m\u001b[43m \u001b[49m\u001b[38;5;28;43;01mNone\u001b[39;49;00m\u001b[43m)\u001b[49m\u001b[43m,\u001b[49m\n\u001b[0;32m   1710\u001b[0m \u001b[43m    \u001b[49m\u001b[43mmemory_map\u001b[49m\u001b[38;5;241;43m=\u001b[39;49m\u001b[38;5;28;43mself\u001b[39;49m\u001b[38;5;241;43m.\u001b[39;49m\u001b[43moptions\u001b[49m\u001b[38;5;241;43m.\u001b[39;49m\u001b[43mget\u001b[49m\u001b[43m(\u001b[49m\u001b[38;5;124;43m\"\u001b[39;49m\u001b[38;5;124;43mmemory_map\u001b[39;49m\u001b[38;5;124;43m\"\u001b[39;49m\u001b[43m,\u001b[49m\u001b[43m \u001b[49m\u001b[38;5;28;43;01mFalse\u001b[39;49;00m\u001b[43m)\u001b[49m\u001b[43m,\u001b[49m\n\u001b[0;32m   1711\u001b[0m \u001b[43m    \u001b[49m\u001b[43mis_text\u001b[49m\u001b[38;5;241;43m=\u001b[39;49m\u001b[43mis_text\u001b[49m\u001b[43m,\u001b[49m\n\u001b[0;32m   1712\u001b[0m \u001b[43m    \u001b[49m\u001b[43merrors\u001b[49m\u001b[38;5;241;43m=\u001b[39;49m\u001b[38;5;28;43mself\u001b[39;49m\u001b[38;5;241;43m.\u001b[39;49m\u001b[43moptions\u001b[49m\u001b[38;5;241;43m.\u001b[39;49m\u001b[43mget\u001b[49m\u001b[43m(\u001b[49m\u001b[38;5;124;43m\"\u001b[39;49m\u001b[38;5;124;43mencoding_errors\u001b[39;49m\u001b[38;5;124;43m\"\u001b[39;49m\u001b[43m,\u001b[49m\u001b[43m \u001b[49m\u001b[38;5;124;43m\"\u001b[39;49m\u001b[38;5;124;43mstrict\u001b[39;49m\u001b[38;5;124;43m\"\u001b[39;49m\u001b[43m)\u001b[49m\u001b[43m,\u001b[49m\n\u001b[0;32m   1713\u001b[0m \u001b[43m    \u001b[49m\u001b[43mstorage_options\u001b[49m\u001b[38;5;241;43m=\u001b[39;49m\u001b[38;5;28;43mself\u001b[39;49m\u001b[38;5;241;43m.\u001b[39;49m\u001b[43moptions\u001b[49m\u001b[38;5;241;43m.\u001b[39;49m\u001b[43mget\u001b[49m\u001b[43m(\u001b[49m\u001b[38;5;124;43m\"\u001b[39;49m\u001b[38;5;124;43mstorage_options\u001b[39;49m\u001b[38;5;124;43m\"\u001b[39;49m\u001b[43m,\u001b[49m\u001b[43m \u001b[49m\u001b[38;5;28;43;01mNone\u001b[39;49;00m\u001b[43m)\u001b[49m\u001b[43m,\u001b[49m\n\u001b[0;32m   1714\u001b[0m \u001b[43m\u001b[49m\u001b[43m)\u001b[49m\n\u001b[0;32m   1715\u001b[0m \u001b[38;5;28;01massert\u001b[39;00m \u001b[38;5;28mself\u001b[39m\u001b[38;5;241m.\u001b[39mhandles \u001b[38;5;129;01mis\u001b[39;00m \u001b[38;5;129;01mnot\u001b[39;00m \u001b[38;5;28;01mNone\u001b[39;00m\n\u001b[0;32m   1716\u001b[0m f \u001b[38;5;241m=\u001b[39m \u001b[38;5;28mself\u001b[39m\u001b[38;5;241m.\u001b[39mhandles\u001b[38;5;241m.\u001b[39mhandle\n",
      "File \u001b[1;32m~\\AppData\\Local\\Packages\\PythonSoftwareFoundation.Python.3.12_qbz5n2kfra8p0\\LocalCache\\local-packages\\Python312\\site-packages\\pandas\\io\\common.py:863\u001b[0m, in \u001b[0;36mget_handle\u001b[1;34m(path_or_buf, mode, encoding, compression, memory_map, is_text, errors, storage_options)\u001b[0m\n\u001b[0;32m    858\u001b[0m \u001b[38;5;28;01melif\u001b[39;00m \u001b[38;5;28misinstance\u001b[39m(handle, \u001b[38;5;28mstr\u001b[39m):\n\u001b[0;32m    859\u001b[0m     \u001b[38;5;66;03m# Check whether the filename is to be opened in binary mode.\u001b[39;00m\n\u001b[0;32m    860\u001b[0m     \u001b[38;5;66;03m# Binary mode does not support 'encoding' and 'newline'.\u001b[39;00m\n\u001b[0;32m    861\u001b[0m     \u001b[38;5;28;01mif\u001b[39;00m ioargs\u001b[38;5;241m.\u001b[39mencoding \u001b[38;5;129;01mand\u001b[39;00m \u001b[38;5;124m\"\u001b[39m\u001b[38;5;124mb\u001b[39m\u001b[38;5;124m\"\u001b[39m \u001b[38;5;129;01mnot\u001b[39;00m \u001b[38;5;129;01min\u001b[39;00m ioargs\u001b[38;5;241m.\u001b[39mmode:\n\u001b[0;32m    862\u001b[0m         \u001b[38;5;66;03m# Encoding\u001b[39;00m\n\u001b[1;32m--> 863\u001b[0m         handle \u001b[38;5;241m=\u001b[39m \u001b[38;5;28;43mopen\u001b[39;49m\u001b[43m(\u001b[49m\n\u001b[0;32m    864\u001b[0m \u001b[43m            \u001b[49m\u001b[43mhandle\u001b[49m\u001b[43m,\u001b[49m\n\u001b[0;32m    865\u001b[0m \u001b[43m            \u001b[49m\u001b[43mioargs\u001b[49m\u001b[38;5;241;43m.\u001b[39;49m\u001b[43mmode\u001b[49m\u001b[43m,\u001b[49m\n\u001b[0;32m    866\u001b[0m \u001b[43m            \u001b[49m\u001b[43mencoding\u001b[49m\u001b[38;5;241;43m=\u001b[39;49m\u001b[43mioargs\u001b[49m\u001b[38;5;241;43m.\u001b[39;49m\u001b[43mencoding\u001b[49m\u001b[43m,\u001b[49m\n\u001b[0;32m    867\u001b[0m \u001b[43m            \u001b[49m\u001b[43merrors\u001b[49m\u001b[38;5;241;43m=\u001b[39;49m\u001b[43merrors\u001b[49m\u001b[43m,\u001b[49m\n\u001b[0;32m    868\u001b[0m \u001b[43m            \u001b[49m\u001b[43mnewline\u001b[49m\u001b[38;5;241;43m=\u001b[39;49m\u001b[38;5;124;43m\"\u001b[39;49m\u001b[38;5;124;43m\"\u001b[39;49m\u001b[43m,\u001b[49m\n\u001b[0;32m    869\u001b[0m \u001b[43m        \u001b[49m\u001b[43m)\u001b[49m\n\u001b[0;32m    870\u001b[0m     \u001b[38;5;28;01melse\u001b[39;00m:\n\u001b[0;32m    871\u001b[0m         \u001b[38;5;66;03m# Binary mode\u001b[39;00m\n\u001b[0;32m    872\u001b[0m         handle \u001b[38;5;241m=\u001b[39m \u001b[38;5;28mopen\u001b[39m(handle, ioargs\u001b[38;5;241m.\u001b[39mmode)\n",
      "\u001b[1;31mFileNotFoundError\u001b[0m: [Errno 2] No such file or directory: 'outputData/MORPC_Crashes_2019-2023_regional_summary_WIDE.csv'"
     ]
    }
   ],
   "source": [
    "# Load the uploaded file to review its content\n",
    "file_path =REGIONAL_SUMMARY_DATA_LABELED_PATH\n",
    "\n",
    "# Load the data from the CSV file\n",
    "data = pd.read_csv(file_path)\n",
    "\n",
    "# Create an Excel writer object\n",
    "with pd.ExcelWriter('outputData/plots/county_line_charts.xlsx', engine='xlsxwriter') as writer:\n",
    "    \n",
    "    # Loop through each unique county and create a chart\n",
    "    for county in data['COUNTY'].unique():\n",
    "        county_data = data[data['COUNTY'] == county]\n",
    "        \n",
    "        \n",
    "        # Ensure 'YEAR', 'POP', and 'RACE' columns are present\n",
    "        county_data = county_data[['YEAR', 'POP_PROP', 'RACE']]\n",
    "        \n",
    "        # Aggregate to handle duplicates by taking the mean or sum\n",
    "        county_data = county_data.groupby(['YEAR', 'RACE'], as_index=False).agg({'POP_PROP': 'mean'})\n",
    "        \n",
    "        # Pivot data to have 'RACE' as columns for plotting\n",
    "        county_data_pivot = county_data.pivot(index='YEAR', columns='RACE', values='POP_PROP')\n",
    "        \n",
    "        # Create a line chart for the current county with a line for each RACE\n",
    "        morpc.data_chart_to_excel(\n",
    "            df=county_data_pivot,\n",
    "            writer=writer,\n",
    "            sheet_name=county,\n",
    "            chartType='line',\n",
    "            chartOptions={\n",
    "                \"titles\": {\n",
    "                    \"chartTitle\": f\"{county} Population Over Time\",\n",
    "                    \"xTitle\": \"Year\",\n",
    "                    \"yTitle\": \"Population Proportion\"\n",
    "                },\n",
    "                \"legendOptions\": {\n",
    "                    \"position\": \"bottom\"\n",
    "                }\n",
    "            }\n",
    "        )\n"
   ]
  },
  {
   "cell_type": "code",
   "execution_count": 101,
   "id": "96f0b824-3c8e-48c9-957b-e32a9714383d",
   "metadata": {},
   "outputs": [
    {
     "name": "stdout",
     "output_type": "stream",
     "text": [
      "       COUNTY                                             itemID\n",
      "0    15County  https://morpc.maps.arcgis.com/sharing/rest/con...\n",
      "1    Delaware  https://morpc.maps.arcgis.com/sharing/rest/con...\n",
      "2   Fairfield  https://morpc.maps.arcgis.com/sharing/rest/con...\n",
      "3     Fayette  https://morpc.maps.arcgis.com/sharing/rest/con...\n",
      "4    Franklin  https://morpc.maps.arcgis.com/sharing/rest/con...\n",
      "5     Hocking  https://morpc.maps.arcgis.com/sharing/rest/con...\n",
      "6        Knox  https://morpc.maps.arcgis.com/sharing/rest/con...\n",
      "7     Licking  https://morpc.maps.arcgis.com/sharing/rest/con...\n",
      "8       Logan  https://morpc.maps.arcgis.com/sharing/rest/con...\n",
      "9     Madison  https://morpc.maps.arcgis.com/sharing/rest/con...\n",
      "10     Marion  https://morpc.maps.arcgis.com/sharing/rest/con...\n",
      "11     Morrow  https://morpc.maps.arcgis.com/sharing/rest/con...\n",
      "12      Perry  https://morpc.maps.arcgis.com/sharing/rest/con...\n",
      "13   Pickaway  https://morpc.maps.arcgis.com/sharing/rest/con...\n",
      "14       Ross  https://morpc.maps.arcgis.com/sharing/rest/con...\n",
      "15      Union  https://morpc.maps.arcgis.com/sharing/rest/con...\n",
      "Updates applied to the hosted table on AGO.\n"
     ]
    }
   ],
   "source": [
    "from arcgis.gis import GIS\n",
    "from arcgis.features import FeatureLayer\n",
    "import pandas as pd\n",
    "\n",
    "# Connect to ArcGIS Online\n",
    "gis = GIS(\"https://www.arcgis.com\", \"ogwynn_morpc\", \"Cr33p3r11!!\")\n",
    "\n",
    "# Access the hosted table layer\n",
    "table_item = gis.content.get(\"5997df4c5bab4c3b947b2dfab95104be\")\n",
    "\n",
    "# Access the hosted table layer\n",
    "if table_item.tables:\n",
    "    table_layer = table_item.tables[0]  # Get the first (or only) table in the item\n",
    "else:\n",
    "    raise ValueError(\"No table found in the specified item.\")\n",
    "    \n",
    "# Load the mapping CSV\n",
    "mapping_df = pd.read_csv('AGO_County_ItemID_Mapping.csv')  # Adjust the path as needed\n",
    "\n",
    "# Query existing records in the hosted table\n",
    "existing_features = table_layer.query().features\n",
    "existing_data = pd.DataFrame([feature.attributes for feature in existing_features])\n",
    "\n",
    "# Prepare list to store updates\n",
    "updates = []\n",
    "\n",
    "print(mapping_df)\n",
    "\n",
    "\n",
    "# Iterate through each row in the mapping CSV to check and prepare updates\n",
    "for _, row in mapping_df.iterrows():\n",
    "    county_name = row['COUNTY']\n",
    "    item_id = row['itemID']\n",
    "    \n",
    "    # Determine the values for RegionType and RegionName\n",
    "    if county_name == \"15County\":\n",
    "        region_type = \"Region-Level\"\n",
    "    elif county_name in {\"Delaware\", \"Fairfield\", \"Fayette\", \"Franklin\", \"Hocking\", \"Knox\", \"Licking\", \n",
    "                         \"Logan\", \"Madison\", \"Marion\", \"Morrow\", \"Perry\", \"Pickaway\", \"Ross\", \"Union\"}:\n",
    "        region_type = \"County-Level\"\n",
    "    else:\n",
    "        region_type = \"Community-Level\"\n",
    "    \n",
    "    # Construct the Image URL\n",
    "    image_url = f\"https://morpc.maps.arcgis.com/sharing/rest/content/items/{item_id}/data\"\n",
    "    \n",
    "    # Check if the Image already exists in the hosted table\n",
    "    if (existing_data['Image_'] == image_url).any():\n",
    "        continue  # Skip this row if the Image already exists\n",
    "\n",
    "    # Find the feature to update or prepare a new one\n",
    "    matching_features = existing_data[existing_data['RegionName'] == county_name]\n",
    "    \n",
    "    if not matching_features.empty:\n",
    "        # Update existing feature\n",
    "        feature_to_update = existing_features[matching_features.index[0]]\n",
    "        feature_to_update.attributes.update({\n",
    "            'Image_': image_url,  # Ensure no extra spaces in field names\n",
    "            'RegionType': region_type,\n",
    "            'RegionName': county_name\n",
    "        })\n",
    "        updates.append(feature_to_update)\n",
    "    else:\n",
    "        # Prepare a new feature if no match found\n",
    "        new_feature = {\n",
    "            'attributes': {\n",
    "                'Image_': image_url,\n",
    "                'RegionType': region_type,\n",
    "                'RegionName': county_name\n",
    "            }\n",
    "        }\n",
    "        updates.append(new_feature)\n",
    "\n",
    "# Apply updates to the hosted table\n",
    "if updates:\n",
    "    # Convert features to dictionaries to avoid circular references\n",
    "    updates_dict = [f.as_dict if hasattr(f, 'as_dict') else f for f in updates]\n",
    "    table_layer.edit_features(updates=updates_dict)\n",
    "    print(\"Updates applied to the hosted table on AGO.\")\n",
    "else:\n",
    "    print(\"No updates needed. All entries are up-to-date.\")\n"
   ]
  }
 ],
 "metadata": {
  "kernelspec": {
   "display_name": "Python 3 (ipykernel)",
   "language": "python",
   "name": "python3"
  },
  "language_info": {
   "codemirror_mode": {
    "name": "ipython",
    "version": 3
   },
   "file_extension": ".py",
   "mimetype": "text/x-python",
   "name": "python",
   "nbconvert_exporter": "python",
   "pygments_lexer": "ipython3",
   "version": "3.12.8"
  }
 },
 "nbformat": 4,
 "nbformat_minor": 5
}
